{
 "cells": [
  {
   "cell_type": "markdown",
   "metadata": {},
   "source": [
    "https://www.ncbi.nlm.nih.gov/pmc/articles/PMC2941976/"
   ]
  },
  {
   "cell_type": "code",
   "execution_count": 2,
   "metadata": {},
   "outputs": [
    {
     "name": "stderr",
     "output_type": "stream",
     "text": [
      "Loading required package: lattice\n",
      "Loading required package: Biobase\n",
      "Loading required package: BiocGenerics\n",
      "Loading required package: parallel\n",
      "\n",
      "Attaching package: ‘BiocGenerics’\n",
      "\n",
      "The following objects are masked from ‘package:parallel’:\n",
      "\n",
      "    clusterApply, clusterApplyLB, clusterCall, clusterEvalQ,\n",
      "    clusterExport, clusterMap, parApply, parCapply, parLapply,\n",
      "    parLapplyLB, parRapply, parSapply, parSapplyLB\n",
      "\n",
      "The following objects are masked from ‘package:flowCore’:\n",
      "\n",
      "    normalize, sort\n",
      "\n",
      "The following objects are masked from ‘package:stats’:\n",
      "\n",
      "    IQR, mad, sd, var, xtabs\n",
      "\n",
      "The following objects are masked from ‘package:base’:\n",
      "\n",
      "    anyDuplicated, append, as.data.frame, cbind, colMeans, colnames,\n",
      "    colSums, do.call, duplicated, eval, evalq, Filter, Find, get, grep,\n",
      "    grepl, intersect, is.unsorted, lapply, lengths, Map, mapply, match,\n",
      "    mget, order, paste, pmax, pmax.int, pmin, pmin.int, Position, rank,\n",
      "    rbind, Reduce, rowMeans, rownames, rowSums, sapply, setdiff, sort,\n",
      "    table, tapply, union, unique, unsplit, which, which.max, which.min\n",
      "\n",
      "Welcome to Bioconductor\n",
      "\n",
      "    Vignettes contain introductory material; view with\n",
      "    'browseVignettes()'. To cite Bioconductor, see\n",
      "    'citation(\"Biobase\")', and for packages 'citation(\"pkgname\")'.\n",
      "\n",
      "Loading required package: annotate\n",
      "Loading required package: AnnotationDbi\n",
      "Loading required package: stats4\n",
      "Loading required package: IRanges\n",
      "Loading required package: S4Vectors\n",
      "\n",
      "Attaching package: ‘S4Vectors’\n",
      "\n",
      "The following object is masked from ‘package:base’:\n",
      "\n",
      "    expand.grid\n",
      "\n",
      "\n",
      "Attaching package: ‘AnnotationDbi’\n",
      "\n",
      "The following object is masked from ‘package:flowCore’:\n",
      "\n",
      "    toTable\n",
      "\n",
      "Loading required package: XML\n",
      "\n",
      "Attaching package: ‘annotate’\n",
      "\n",
      "The following object is masked from ‘package:flowCore’:\n",
      "\n",
      "    journal\n",
      "\n"
     ]
    }
   ],
   "source": [
    "#source(\"http://www.bioconductor.org/biocLite.R\")\n",
    "#biocLite(\"flowCore\")\n",
    "#biocLite(\"flowViz\")\n",
    "#biocLite(\"flowUtils\")\n",
    "#biocLite(\"geneplotter\")\n",
    "#openVignette()\n",
    "\n",
    "library(\"flowCore\")\n",
    "library(\"flowViz\")\n",
    "library(\"flowUtils\")\n",
    "library(\"geneplotter\")"
   ]
  },
  {
   "cell_type": "markdown",
   "metadata": {},
   "source": [
    "# Pre-processing"
   ]
  },
  {
   "cell_type": "markdown",
   "metadata": {},
   "source": [
    "### Data Entry"
   ]
  },
  {
   "cell_type": "code",
   "execution_count": 9,
   "metadata": {},
   "outputs": [],
   "source": [
    "fcdir  <- \"/media/clint/Data/GitRepo/BIOS822_FinalProj/data_test\"\n",
    "fclist <- dir(fcdir)"
   ]
  },
  {
   "cell_type": "code",
   "execution_count": 10,
   "metadata": {},
   "outputs": [],
   "source": [
    "fs <- read.flowSet(file.path(fcdir, fclist), transformation = FALSE)"
   ]
  },
  {
   "cell_type": "code",
   "execution_count": 11,
   "metadata": {},
   "outputs": [
    {
     "data": {
      "text/plain": [
       "A flowSet with 2 experiments.\n",
       "\n",
       "  column names:\n",
       "  FSC-A FSC-H SSC-A B515-A R780-A R710-A R660-A V800-A V655-A V585-A V450-A G780-A G710-A G660-A G610-A G560-A"
      ]
     },
     "metadata": {},
     "output_type": "display_data"
    }
   ],
   "source": [
    "fs"
   ]
  },
  {
   "cell_type": "markdown",
   "metadata": {},
   "source": [
    "### Gating on Forward Scatter and Side Scatter"
   ]
  },
  {
   "cell_type": "markdown",
   "metadata": {},
   "source": [
    "### Compensating for Fluorescent Spillover"
   ]
  },
  {
   "cell_type": "code",
   "execution_count": 13,
   "metadata": {},
   "outputs": [
    {
     "data": {
      "text/plain": [
       "$frames\n",
       "<environment: 0x80121d8>\n",
       "\n",
       "$phenoData\n",
       "An object of class 'AnnotatedDataFrame'\n",
       "  rowNames: 100715.fcs 105696.fcs\n",
       "  varLabels: name\n",
       "  varMetadata: labelDescription\n",
       "\n",
       "$colnames\n",
       " [1] \"FSC-A\"  \"FSC-H\"  \"SSC-A\"  \"B515-A\" \"R780-A\" \"R710-A\" \"R660-A\" \"V800-A\"\n",
       " [9] \"V655-A\" \"V585-A\" \"V450-A\" \"G780-A\" \"G710-A\" \"G660-A\" \"G610-A\" \"G560-A\"\n",
       "\n",
       "$class\n",
       "[1] \"flowSet\"\n",
       "attr(,\"package\")\n",
       "[1] \"flowCore\"\n"
      ]
     },
     "metadata": {},
     "output_type": "display_data"
    }
   ],
   "source": [
    "attributes(fs)"
   ]
  },
  {
   "cell_type": "code",
   "execution_count": null,
   "metadata": {},
   "outputs": [],
   "source": []
  },
  {
   "cell_type": "code",
   "execution_count": null,
   "metadata": {},
   "outputs": [],
   "source": []
  },
  {
   "cell_type": "code",
   "execution_count": null,
   "metadata": {},
   "outputs": [],
   "source": []
  },
  {
   "cell_type": "code",
   "execution_count": null,
   "metadata": {},
   "outputs": [],
   "source": []
  },
  {
   "cell_type": "code",
   "execution_count": null,
   "metadata": {},
   "outputs": [],
   "source": []
  },
  {
   "cell_type": "code",
   "execution_count": null,
   "metadata": {},
   "outputs": [],
   "source": []
  },
  {
   "cell_type": "code",
   "execution_count": null,
   "metadata": {},
   "outputs": [],
   "source": []
  }
 ],
 "metadata": {
  "kernelspec": {
   "display_name": "R",
   "language": "R",
   "name": "ir"
  },
  "language_info": {
   "codemirror_mode": "r",
   "file_extension": ".r",
   "mimetype": "text/x-r-source",
   "name": "R",
   "pygments_lexer": "r",
   "version": "3.4.3"
  }
 },
 "nbformat": 4,
 "nbformat_minor": 2
}
