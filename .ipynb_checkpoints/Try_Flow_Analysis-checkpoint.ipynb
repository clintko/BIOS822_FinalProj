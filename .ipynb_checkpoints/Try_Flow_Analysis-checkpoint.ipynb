{
 "cells": [
  {
   "cell_type": "code",
   "execution_count": 1,
   "metadata": {},
   "outputs": [
    {
     "name": "stderr",
     "output_type": "stream",
     "text": [
      "── Attaching packages ─────────────────────────────────────── tidyverse 1.2.1 ──\n",
      "✔ ggplot2 2.2.1     ✔ purrr   0.2.4\n",
      "✔ tibble  1.4.2     ✔ dplyr   0.7.4\n",
      "✔ tidyr   0.8.0     ✔ stringr 1.3.0\n",
      "✔ readr   1.1.1     ✔ forcats 0.3.0\n",
      "── Conflicts ────────────────────────────────────────── tidyverse_conflicts() ──\n",
      "✖ dplyr::filter() masks stats::filter()\n",
      "✖ dplyr::lag()    masks stats::lag()\n",
      "Loading required package: lattice\n",
      "Loading required package: ncdfFlow\n",
      "Loading required package: RcppArmadillo\n",
      "Loading required package: BH\n",
      "Loading required package: flowWorkspace\n"
     ]
    },
    {
     "name": "stdout",
     "output_type": "stream",
     "text": [
      "[1] \"100715.fcs\" \"105696.fcs\"\n"
     ]
    }
   ],
   "source": [
    "library(tidyverse)\n",
    "library(flowCore)\n",
    "library(flowViz)\n",
    "library(ggcyto)"
   ]
  },
  {
   "cell_type": "code",
   "execution_count": 2,
   "metadata": {},
   "outputs": [],
   "source": [
    "fcdir  <- \"/media/clint/Data/GitRepo/BIOS822_FinalProj/data_test\"\n",
    "fclist <- dir(fcdir)"
   ]
  },
  {
   "cell_type": "code",
   "execution_count": 4,
   "metadata": {},
   "outputs": [
    {
     "name": "stdout",
     "output_type": "stream",
     "text": [
      "[1] \"flowSet\"\n",
      "attr(,\"package\")\n",
      "[1] \"flowCore\"\n",
      "[1] \"=========\"\n",
      "[1] 2\n",
      "[1] \"=========\"\n",
      "A flowSet with 2 experiments.\n",
      "\n",
      "  column names:\n",
      "  FSC-A FSC-H SSC-A B515-A R780-A R710-A R660-A V800-A V655-A V585-A V450-A G780-A G710-A G660-A G610-A G560-A\n"
     ]
    }
   ],
   "source": [
    "#fs <- read.FCS(file.path(fcdir, \"100715.fcs\"), transformation = FALSE)\n",
    "fs <- read.flowSet(file.path(fcdir, fclist), transformation = FALSE)\n",
    "print(class(fs))\n",
    "print(\"=========\")\n",
    "print(length(fs))\n",
    "print(\"=========\")\n",
    "print(fs)"
   ]
  },
  {
   "cell_type": "code",
   "execution_count": 6,
   "metadata": {},
   "outputs": [
    {
     "name": "stdout",
     "output_type": "stream",
     "text": [
      "[1] \"flowFrame\"\n",
      "attr(,\"package\")\n",
      "[1] \"flowCore\"\n",
      "[1] \"=========\"\n",
      "[1] 1\n",
      "[1] \"=========\"\n",
      "flowFrame object '100715.fcs'\n",
      "with 65016 cells and 16 observables:\n",
      "       name         desc  range     minRange maxRange\n",
      "$P1   FSC-A         <NA> 262207 23406.000000   262206\n",
      "$P2   FSC-H         <NA> 262207 27008.500000   262206\n",
      "$P3   SSC-A         <NA> 261588    -8.014621   261587\n",
      "$P4  B515-A         KI67 261588   -67.282539   261587\n",
      "$P5  R780-A          CD3 261588   -67.119034   261587\n",
      "$P6  R710-A         CD28 261588   -44.558552   261587\n",
      "$P7  R660-A       CD45RO 261588   -79.819801   261587\n",
      "$P8  V800-A          CD8 261588  -110.409325   261587\n",
      "$P9  V655-A          CD4 261588   -66.276711   261587\n",
      "$P10 V585-A         CD57 261588  -110.472748   261587\n",
      "$P11 V450-A VIVID / CD14 261588   -28.876564   261587\n",
      "$P12 G780-A         CCR5 261588  -110.527817   261587\n",
      "$P13 G710-A         CD19 261588   -89.503387   261587\n",
      "$P14 G660-A         CD27 261588   -51.957710   261587\n",
      "$P15 G610-A         CCR7 261588   -61.939350   261587\n",
      "$P16 G560-A        CD127 261588   -33.256630   261587\n",
      "205 keywords are stored in the 'description' slot\n"
     ]
    }
   ],
   "source": [
    "fs1 <- fs[[1]]\n",
    "print(class(fs1))\n",
    "print(\"=========\")\n",
    "print(length(fs1))\n",
    "print(\"=========\")\n",
    "print(fs1)"
   ]
  },
  {
   "cell_type": "markdown",
   "metadata": {},
   "source": [
    "```\n",
    "events <- exprs(fs1)\n",
    "print(dim(events))\n",
    "print(\"==================\")\n",
    "head(events, 3)\n",
    "\n",
    "spill <- fs@description$'SPILL'\n",
    "print(dim(spill))\n",
    "print(\"==================\")\n",
    "head(spill, 3)\n",
    "\n",
    "colnames(spill)\n",
    "\n",
    "comp_fs <- compensate(fs, spill)\n",
    "comp_events <- exprs(comp_fs)\n",
    "\n",
    "trans_asinh <- transform(fs, transformList(colnames(fs)[4:16], asinh))\n",
    "print(splom(trans_asinh))\n",
    "autoplot(fstrans_asinh, \"B515-A\", \"R780-A\")\n",
    "```"
   ]
  },
  {
   "cell_type": "code",
   "execution_count": null,
   "metadata": {},
   "outputs": [],
   "source": []
  }
 ],
 "metadata": {
  "kernelspec": {
   "display_name": "R",
   "language": "R",
   "name": "ir"
  },
  "language_info": {
   "codemirror_mode": "r",
   "file_extension": ".r",
   "mimetype": "text/x-r-source",
   "name": "R",
   "pygments_lexer": "r",
   "version": "3.4.3"
  }
 },
 "nbformat": 4,
 "nbformat_minor": 2
}
