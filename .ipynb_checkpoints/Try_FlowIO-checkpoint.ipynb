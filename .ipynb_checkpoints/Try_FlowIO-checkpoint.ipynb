{
 "cells": [
  {
   "cell_type": "markdown",
   "metadata": {},
   "source": [
    "# Learn to use FlowIO to read FCS file\n",
    "https://github.com/whitews/FlowIO/blob/master/examples/read_fcs_file.py"
   ]
  },
  {
   "cell_type": "markdown",
   "metadata": {},
   "source": [
    "flowio allows users to parse the fcs binary file to a FlowData object in python"
   ]
  },
  {
   "cell_type": "code",
   "execution_count": 31,
   "metadata": {},
   "outputs": [
    {
     "name": "stdout",
     "output_type": "stream",
     "text": [
      "FCS2.0          58    5099    5120 4166143       0       0\\$TOT\\65016\\$PAR\\16\\$MODE\\L\\$BYTEORD\\4,3,2,1\\$FIL\\100715.fcs\\$NEXTDATA\\0\\$DATATYPE\\F\\$BEGINSTEXT\\0\\$BTIM\\15:36:28\\$CYT\\Main Aria (FACSAria)\\$DATE\\17-JUL-2007\\$ENDSTEXT\\0\\$ETIM\\15:38:06\\$INST\\ \\$OP\\Administrator\\$SRC\\Specimen_001\\$SYS\\Windows XP 5.1\\$TIMESTEP\\0.08\\APPLY COMPENSATION\\TRUE\\AUTOBS\\TRUE\\CD Age\\19.6\\CD CD4, %CM\\.\\CD CD4, %EM\\.\\CD CD4, %N\\.\\CD CD4, %TM\\.\\CD Event Censor\\0\\CD First Viral Load\\2024\\CD First Viral Load Date\\11/09/1999\\CD Gag/100 CD4 Cells\\.\\CD Gag/100 CM Cells\\.\\CD Gag/100 EM Cells\\.\\CD Gag/100 N Cells\\.\\CD GAG/100 TM CELLS\\.\\CD Seroconversion Datae\\04/30/1999\\CD Survival time from seroconversion\\63\\CD Time from seroc to sample\\194\\CYTNUM\\1\\EXPERIMENT NAME\\070717_AB02_tb\\EXPORT TIME\\17-JUL-2007-16:04:38\\EXPORT USER NAME\\Administrator\\Final Pin\\100715\\FJ_$P17R\\262144\\FJ_$TIMESTEP\\0.01\\FJ_CompMatrixName\\ \\FSC ASF\\0.63\\GUID\\0d8e743a-05fe-4e8b-9ec4-25993c124ee2\\Index\\416\\LASER1ASF\\0.66\\LASER1DELAY\\0.00\\LASER1NAME\\Blue\\LASER2ASF\\0.55\\LASER2DELAY\\-59.80\\LASER2NAME\\Red\\LASER3ASF\\0.48\\LASER3DELAY\\-24.40\\LASER3NAME\\Violet\\LASER4ASF\\0.53\\LASER4DELAY\\-82.60\\LASER4NAME\\Green\\Live Cells Recovered\\ \\PIN\\ \\pin check\\ \\SORT TYPE\\SORT\\SPILL\\13,B515-A,R780-A,R710-A,R660-A,V800-A,V655-A,V585-A,V450-A,G780-A,G710-A,G660-A,G610-A,G560-A,1,0,0,0.00008841570561316703,0.0002494559842740046,0.0006451591561972469,0.007198401782797728,0,0,0.00013132619816952714,0.0000665251222573374,0.0005815839652764308,0.0025201730479353047,0,1,0.07118758880093266,0.14844804153215532,0.3389031912802132,0.00971660311243448,0,0,0.3013801753249257,0.007477611134717788,0.0123543122066652,0,0,0,0.33140488468849205,1,0.0619647566095391,0.12097867005182314,0.004052554840959644,0,0,0.1091165124197372,0.10031383324016652,0.005831773047424356,0,0,0,0.08862108746390694,0.38942413967608824,1,0.029758767352535288,0.06555281586224636,0,0,0.03129393154653089,0.039305936245674286,0.09137451237674046,0.00039591122341817164,0.000056659766405160846,0,0.13661791418865094,0.010757316236957385,0,1,0.00015647113960278087,0,0,0.48323487842103036,0.01485813345103798,0,0,0,0,0.00012365104122837034,0.019462610460087203,0.2182062762553545,0.004953221988365214,1,0.003582785726251024,0,0.0013106968243292993,0.029645575685206288,0.4089015923558522,0.006505826616588717,0.00011917703878954761,0,0,0,0,0.001055595075733903,0.002287122431059274,1,0,0.0003885172922042414,0.0001942589956485108,0,0.06255131165904257,0.13248446095817049,0,0,0,0,0,0.008117870042687002,0.17006643956891296,1,0,0,0,0,0,0.003122390646560834,0.008525685683831916,0.001024237027323255,0.0011626412849951272,0.12540105131097395,0.018142202256893485,0.19364562239714117,0,1,0.06689784643460173,0.16145640353506588,0.2868231743828476,1.2380368696528024,0.002015498041918758,0.06964529385206036,0.19471548842271394,0.0010077719457714136,0.15161117217667686,0.0012703511702660231,0.007133491446011225,0,1.1500323358669722,1,0.016076827046672983,0.014674146885307975,0.055351746085494,0.001685226072130514,0.05433993817875603,0.27785224557295884,0.34300826602551504,0.06175281041168121,0.07752283973796613,0.0042628794531131406,0,0.49748791920091034,0.7439226300384197,1,0.010329232815907474,0.03763461149817695,0,0.008713148000954844,0.04821275078920058,0.07319044343609345,0.1505631929508567,0.3862934410767249,0.10189631814602482,0,0.3702770755789083,0.6134900271606913,1.2180240147472128,1,0.06521131251063482,0.0016842378874079343,0,0,0.00009533732312150527,0.0034630076700367675,0.01571183587491517,0.17412189188164517,0,0.023802192010810994,0.049474451704249904,0.13251071256825273,0.23921555785727822,1\\THRESHOLD\\FSC,27000\\TUBE NAME\\Tube_025\\Viability\\ \\VIAL ID\\100715\\VRC ID\\ \\WINDOW EXTENSION\\3.00\\CREATOR\\LYSYS\\$P1N\\FSC-A\\$P1S\\ \\$P1B\\32\\$P1R\\262207\\$P1G\\1\\P1BS\\0\\P1DISPLAY\\LIN\\P1MS\\0\\$P2N\\FSC-H\\$P2S\\ \\$P2B\\32\\$P2R\\262207\\$P2G\\1\\P2BS\\0\\P2DISPLAY\\LIN\\P2MS\\0\\$P3N\\SSC-A\\$P3S\\ \\$P3B\\32\\$P3R\\261588\\$P3G\\1\\P3BS\\0\\P3DISPLAY\\LOG\\P3MS\\0\\$P4N\\B515-A\\$P4S\\KI67\\$P4B\\32\\$P4R\\261588\\$P4G\\1\\P4BS\\0\\P4DISPLAY\\LOG\\P4MS\\0\\$P5N\\R780-A\\$P5S\\CD3\\$P5B\\32\\$P5R\\261588\\$P5G\\1\\P5BS\\2926\\P5DISPLAY\\LOG\\P5MS\\0\\$P6N\\R710-A\\$P6S\\CD28\\$P6B\\32\\$P6R\\261588\\$P6G\\1\\P6BS\\1162\\P6DISPLAY\\LOG\\P6MS\\0\\$P7N\\R660-A\\$P7S\\CD45RO\\$P7B\\32\\$P7R\\261588\\$P7G\\1\\P7BS\\1849\\P7DISPLAY\\LOG\\P7MS\\0\\$P8N\\V800-A\\$P8S\\CD8\\$P8B\\32\\$P8R\\261588\\$P8G\\1\\P8BS\\2029\\P8DISPLAY\\LOG\\P8MS\\0\\$P9N\\V655-A\\$P9S\\CD4\\$P9B\\32\\$P9R\\261588\\$P9G\\1\\P9BS\\3343\\P9DISPLAY\\LOG\\P9MS\\0\\$P10N\\V585-A\\$P10S\\CD57\\$P10B\\32\\$P10R\\261588\\$P10G\\1\\P10BS\\331\\P10DISPLAY\\LOG\\P10MS\\0\\$P11N\\V450-A\\$P11S\\VIVID / CD14\\$P11B\\32\\$P11R\\261588\\$P11G\\1\\P11BS\\0\\P11DISPLAY\\LOG\\P11MS\\0\\$P12N\\G780-A\\$P12S\\CCR5\\$P12B\\32\\$P12R\\261588\\$P12G\\1\\P12BS\\14511\\P12DISPLAY\\LOG\\P12MS\\0\\$P13N\\G710-A\\$P13S\\CD19\\$P13B\\32\\$P13R\\261588\\$P13G\\1\\P13BS\\6053\\P13DISPLAY\\LOG\\P13MS\\0\\$P14N\\G660-A\\$P14S\\CD27\\$P14B\\32\\$P14R\\261588\\$P14G\\1\\P14BS\\9362\\P14DISPLAY\\LOG\\P14MS\\0\\$P15N\\G610-A\\$P15S\\CCR7\\$P15B\\32\\$P15R\\261588\\$P15G\\1\\P15BS\\557\\P15DISPLAY\\LOG\\P15MS\\0\\$P16N\\G560-A\\$P16S\\CD127\\$P16B\\32\\$P16R\\261588\\$P16G\\1\\P16BS\\9808\\P16DISPLAY\\LOG\\P16MS\\0\\$BEGINDATA\\        5120\\$ENDDATA\\     4166143\\                    F�i�F�7�C1��D�\u000f�D\u001c",
      "E\u0018D�\u0003:D; �D� �D��5EF{wE\u0012!�E\u000e�D�͕E\u001fn�D��D���G!0@G\u001bT@C�\u000f�Ecy�D\u0006�\u0002D�)�D�ȂE\n",
      "E���E{��E��G\u001c",
      "@�G\u001d",
      "\u0015�Cl��E\u001f\u001d",
      "�D�5�E\u0010��D�c%E:��DE���Gx�\u0000GTˀD�OxErp�D�Y�E_Y\u000b",
      "D�{�E��zE_��F\u000f}8E�\u0007�E�&�E�=�E\u0000�\u0017D���Ev�_E\u001b\u0003yE!�\u0004D�QGE-\u000e&G\u001aQ�G\u001a�\u0000CK@mE\u001e",
      "��C���DVI�D2�\u0007D��HD�R�En(;EW#%D��\u0000D�y�E+��E\u0004g�D�\u0011*G\u0001��G\u0007�\u0000C��<E\t\n",
      "o�C='�E>��D�\u0019\u000b",
      "E0{�D���E0��E\u0000Z�E��\u0007E7/E�\u000f\u001fEY|GEc�\u0014E4TyE��\f",
      "F�ŀF�x\u0000CQ�\u001aD�PD\u0019\u0011\u001bD���DY�#D�\u0006�D�� E-�2E\u0011�d@�D�E(��D�5�D�M\u0004Ga�@GT�@D��FJ��E�d�F0��E�F���F�BcF�_E�P�Ff��FOm�F��\u0018Fe�\u0005F\u0013\u0005\u000eG\u0002\u0015\u0000G\u0001E�CPx�E\u0006)�C��HDU�HDS|FD���D�(�E+�ID�0�Dօ�D��\u0014E\u0003�D��!D�f�G\u0006�@G\n",
      "=�ElP�D�_,E�1<Et!�E�/�E`-;E�\u000e]F开F�w\u0000Cg��E<\u0006\u0013Dyx�E\u0010�?D�F�Dۧ�D��E<�\u001aDä\u0000Ez�bE\u001aolE7��E\u000f\u0013�Eb�@GC:�G=��D\u0006B�EC%}DuG�E\f",
      "��D�\u001c",
      "E\u001d",
      "g�E\u000b",
      "h�E���Ea��E�PE#7mES0�E$��Eh��G\u001b��G\u0012��CF��E)�D�#\u0001E8\u0019$D�$#E\t��D��`E@\n",
      "�D���E�3E\\��E_��E5_�E��hG\u0002s\u0000G\n",
      "d�C4N$E$�sDl�rE\u0005��D��D���E\u0000��Ee�sE#9_E\\�\u0010E$f\u0002Ea�\u001e",
      "E*t�E4@*F޺�F��\u0000CfF#D�\u0006mD�fnD�d�D\\��D�2�D,\tqD�H�D\u001a4/EaF�D�S<D�&�D��e�Es\u0006mG]W�GI\u0002@C_\u0010mEI\u001d",
      "�C�O�D��D��D���D�6\u0007ET^AE#��D��SD��\u001fE\u0019�2D�BpD��4GF��G=�@C���Eh%�D\u0010D�D��\u001bD�\u0003%D�(\u000b",
      "E\u0001пEPMDE%�IE\u0001��D�ܰE3��D�z%D�FPG\n",
      "�F��\u0000C\u0002(S�D�m�E\t�\u001bE���D�.�E\u001c",
      "��D�]\u0011E\u001e",
      "\u0004�E(��E�\u0006�E`_PE=4\u0014E\u0007��EN��G[\u0018�GJ�\u0000D��JE���Da�sD��D��\tE]�jEO��F 9�E��ESXrE\u0010\u001a]E4ӽE\u000b",
      "��EX�MG:S@G9�\u0000C�J{E+��D���E\u001d",
      "�TE\u0001./E\u0004�:E\u0018\u0011�E���ER\u001c",
      "�E�6�E^\u0017�E���EbUxEl�qF�D��VE)*'E\t|�Ee\u0005\u0017E@��ETUnF�r\u0000F��\u0000C\u001a��D�@\tDk�\n",
      " Ez\u0019lE\t��El�XD�a�E\u00107�D�]6D�S:D�y�E���E@U�E\u001c",
      "�BE\u0005�/E�E\u0010G �\u0000G#?�C8M9E3[�D:!�D�҈D�\u000e\u001d",
      "D�K\u0003D���ED�\u0006D�\u001e",
      "�E\u0015\u001d",
      "�D�#\u0007��D�9�D�|\u0007G\u001d",
      "��G ��Cc\u0010\u0015EUIZD�(E\u0015Y�D��\f",
      "D�\u001e",
      "\u0003D���EV��D�\n",
      "��G\u0013u�C(@mE2�xC��\u0010D\"\u000fnD\u0015�zD\u0019�\"D�E\n",
      "DC��C�\u001a�D���D9E\u001b\u0019�D�nyDg�\"DG�eD�\u0010�G?�\u0000G@\u0001@CM��EH�3D�3\u0000E+6.D��\f",
      "E\u0016\u0002ME\u0013�gE���EL\u001d",
      "�E҂�EzP�E�-sE]okE���G!ՀG\u0019;�Ch<XD��\f",
      "DÅtEK��D<��E\u0019/�D�G;E ɺE��\u000fF\u0018\u0007_E��2E#�xE\u00130�E�3�F�ÀF�G�B�~�Dc4D��xEr��D-�^E\u000b",
      "��D;�D�I-E\u0007\u001b�E�[�E��\u0015%NDEmq�G�� G�=@C��_El�D\u000b",
      "��D�c\tD\u0019�;D��iD���EDùE9NTE\u001c",
      "�\u0004D�eE/\t�E\u000b",
      "z�E5��F� \u0000F�1\u0000C��-E\u001e",
      "�\u0006E<i�E�\u0013�E�3\u0011EyU)Fp�\u0000F�$�D�j$E��E�P�F\u001d",
      "\u0012�E�s8F\u000b",
      "d�G$\u0005�G\u001d",
      "\u0004�CO�SE\u001c",
      "�mE\u000f\u0004 E��\n"
     ]
    }
   ],
   "source": [
    "!head /media/clint/Data/GitRepo/Data_FlowHIV/100715.fcs"
   ]
  },
  {
   "cell_type": "code",
   "execution_count": 1,
   "metadata": {},
   "outputs": [],
   "source": [
    "import flowio\n",
    "import numpy"
   ]
  },
  {
   "cell_type": "code",
   "execution_count": 2,
   "metadata": {},
   "outputs": [],
   "source": [
    "#fd = flowio.FlowData('data_set1.fcs')\n",
    "fd = flowio.FlowData(\"/media/clint/Data/GitRepo/Data_FlowHIV/100715.fcs\")"
   ]
  },
  {
   "cell_type": "code",
   "execution_count": 4,
   "metadata": {},
   "outputs": [
    {
     "name": "stdout",
     "output_type": "stream",
     "text": [
      "{'1': {'PnN': 'FSC-A', 'PnS': ' '}, '2': {'PnN': 'FSC-H', 'PnS': ' '}, '3': {'PnN': 'SSC-A', 'PnS': ' '}, '4': {'PnN': 'B515-A', 'PnS': 'KI67'}, '5': {'PnN': 'R780-A', 'PnS': 'CD3'}, '6': {'PnN': 'R710-A', 'PnS': 'CD28'}, '7': {'PnN': 'R660-A', 'PnS': 'CD45RO'}, '8': {'PnN': 'V800-A', 'PnS': 'CD8'}, '9': {'PnN': 'V655-A', 'PnS': 'CD4'}, '10': {'PnN': 'V585-A', 'PnS': 'CD57'}, '11': {'PnN': 'V450-A', 'PnS': 'VIVID / CD14'}, '12': {'PnN': 'G780-A', 'PnS': 'CCR5'}, '13': {'PnN': 'G710-A', 'PnS': 'CD19'}, '14': {'PnN': 'G660-A', 'PnS': 'CD27'}, '15': {'PnN': 'G610-A', 'PnS': 'CCR7'}, '16': {'PnN': 'G560-A', 'PnS': 'CD127'}}\n"
     ]
    }
   ],
   "source": [
    "print(fd.channels)"
   ]
  },
  {
   "cell_type": "code",
   "execution_count": 3,
   "metadata": {},
   "outputs": [
    {
     "name": "stdout",
     "output_type": "stream",
     "text": [
      "1040256\n",
      "{'tot': '65016', 'par': '16', 'mode': 'L', 'byteord': '4,3,2,1', 'fil': '100715.fcs', 'nextdata': '0', 'datatype': 'F', 'beginstext': '0', 'btim': '15:36:28', 'cyt': 'Main Aria (FACSAria)', 'date': '17-JUL-2007', 'endstext': '0', 'etim': '15:38:06', 'inst': ' ', 'op': 'Administrator', 'src': 'Specimen_001', 'sys': 'Windows XP 5.1', 'timestep': '0.08', 'apply compensation': 'TRUE', 'autobs': 'TRUE', 'cd age': '19.6', 'cd cd4, %cm': '.', 'cd cd4, %em': '.', 'cd cd4, %n': '.', 'cd cd4, %tm': '.', 'cd event censor': '0', 'cd first viral load': '2024', 'cd first viral load date': '11/09/1999', 'cd gag/100 cd4 cells': '.', 'cd gag/100 cm cells': '.', 'cd gag/100 em cells': '.', 'cd gag/100 n cells': '.', 'cd gag/100 tm cells': '.', 'cd seroconversion datae': '04/30/1999', 'cd survival time from seroconversion': '63', 'cd time from seroc to sample': '194', 'cytnum': '1', 'experiment name': '070717_AB02_tb', 'export time': '17-JUL-2007-16:04:38', 'export user name': 'Administrator', 'final pin': '100715', 'fj_p17r': '262144', 'fj_timestep': '0.01', 'fj_compmatrixname': ' ', 'fsc asf': '0.63', 'guid': '0d8e743a-05fe-4e8b-9ec4-25993c124ee2', 'index': '416', 'laser1asf': '0.66', 'laser1delay': '0.00', 'laser1name': 'Blue', 'laser2asf': '0.55', 'laser2delay': '-59.80', 'laser2name': 'Red', 'laser3asf': '0.48', 'laser3delay': '-24.40', 'laser3name': 'Violet', 'laser4asf': '0.53', 'laser4delay': '-82.60', 'laser4name': 'Green', 'live cells recovered': ' ', 'pin': ' ', 'pin check': ' ', 'sort type': 'SORT', 'spill': '13,B515-A,R780-A,R710-A,R660-A,V800-A,V655-A,V585-A,V450-A,G780-A,G710-A,G660-A,G610-A,G560-A,1,0,0,0.00008841570561316703,0.0002494559842740046,0.0006451591561972469,0.007198401782797728,0,0,0.00013132619816952714,0.0000665251222573374,0.0005815839652764308,0.0025201730479353047,0,1,0.07118758880093266,0.14844804153215532,0.3389031912802132,0.00971660311243448,0,0,0.3013801753249257,0.007477611134717788,0.0123543122066652,0,0,0,0.33140488468849205,1,0.0619647566095391,0.12097867005182314,0.004052554840959644,0,0,0.1091165124197372,0.10031383324016652,0.005831773047424356,0,0,0,0.08862108746390694,0.38942413967608824,1,0.029758767352535288,0.06555281586224636,0,0,0.03129393154653089,0.039305936245674286,0.09137451237674046,0.00039591122341817164,0.000056659766405160846,0,0.13661791418865094,0.010757316236957385,0,1,0.00015647113960278087,0,0,0.48323487842103036,0.01485813345103798,0,0,0,0,0.00012365104122837034,0.019462610460087203,0.2182062762553545,0.004953221988365214,1,0.003582785726251024,0,0.0013106968243292993,0.029645575685206288,0.4089015923558522,0.006505826616588717,0.00011917703878954761,0,0,0,0,0.001055595075733903,0.002287122431059274,1,0,0.0003885172922042414,0.0001942589956485108,0,0.06255131165904257,0.13248446095817049,0,0,0,0,0,0.008117870042687002,0.17006643956891296,1,0,0,0,0,0,0.003122390646560834,0.008525685683831916,0.001024237027323255,0.0011626412849951272,0.12540105131097395,0.018142202256893485,0.19364562239714117,0,1,0.06689784643460173,0.16145640353506588,0.2868231743828476,1.2380368696528024,0.002015498041918758,0.06964529385206036,0.19471548842271394,0.0010077719457714136,0.15161117217667686,0.0012703511702660231,0.007133491446011225,0,1.1500323358669722,1,0.016076827046672983,0.014674146885307975,0.055351746085494,0.001685226072130514,0.05433993817875603,0.27785224557295884,0.34300826602551504,0.06175281041168121,0.07752283973796613,0.0042628794531131406,0,0.49748791920091034,0.7439226300384197,1,0.010329232815907474,0.03763461149817695,0,0.008713148000954844,0.04821275078920058,0.07319044343609345,0.1505631929508567,0.3862934410767249,0.10189631814602482,0,0.3702770755789083,0.6134900271606913,1.2180240147472128,1,0.06521131251063482,0.0016842378874079343,0,0,0.00009533732312150527,0.0034630076700367675,0.01571183587491517,0.17412189188164517,0,0.023802192010810994,0.049474451704249904,0.13251071256825273,0.23921555785727822,1', 'threshold': 'FSC,27000', 'tube name': 'Tube_025', 'viability': ' ', 'vial id': '100715', 'vrc id': ' ', 'window extension': '3.00', 'creator': 'LYSYS', 'p1n': 'FSC-A', 'p1s': ' ', 'p1b': '32', 'p1r': '262207', 'p1g': '1', 'p1bs': '0', 'p1display': 'LIN', 'p1ms': '0', 'p2n': 'FSC-H', 'p2s': ' ', 'p2b': '32', 'p2r': '262207', 'p2g': '1', 'p2bs': '0', 'p2display': 'LIN', 'p2ms': '0', 'p3n': 'SSC-A', 'p3s': ' ', 'p3b': '32', 'p3r': '261588', 'p3g': '1', 'p3bs': '0', 'p3display': 'LOG', 'p3ms': '0', 'p4n': 'B515-A', 'p4s': 'KI67', 'p4b': '32', 'p4r': '261588', 'p4g': '1', 'p4bs': '0', 'p4display': 'LOG', 'p4ms': '0', 'p5n': 'R780-A', 'p5s': 'CD3', 'p5b': '32', 'p5r': '261588', 'p5g': '1', 'p5bs': '2926', 'p5display': 'LOG', 'p5ms': '0', 'p6n': 'R710-A', 'p6s': 'CD28', 'p6b': '32', 'p6r': '261588', 'p6g': '1', 'p6bs': '1162', 'p6display': 'LOG', 'p6ms': '0', 'p7n': 'R660-A', 'p7s': 'CD45RO', 'p7b': '32', 'p7r': '261588', 'p7g': '1', 'p7bs': '1849', 'p7display': 'LOG', 'p7ms': '0', 'p8n': 'V800-A', 'p8s': 'CD8', 'p8b': '32', 'p8r': '261588', 'p8g': '1', 'p8bs': '2029', 'p8display': 'LOG', 'p8ms': '0', 'p9n': 'V655-A', 'p9s': 'CD4', 'p9b': '32', 'p9r': '261588', 'p9g': '1', 'p9bs': '3343', 'p9display': 'LOG', 'p9ms': '0', 'p10n': 'V585-A', 'p10s': 'CD57', 'p10b': '32', 'p10r': '261588', 'p10g': '1', 'p10bs': '331', 'p10display': 'LOG', 'p10ms': '0', 'p11n': 'V450-A', 'p11s': 'VIVID / CD14', 'p11b': '32', 'p11r': '261588', 'p11g': '1', 'p11bs': '0', 'p11display': 'LOG', 'p11ms': '0', 'p12n': 'G780-A', 'p12s': 'CCR5', 'p12b': '32', 'p12r': '261588', 'p12g': '1', 'p12bs': '14511', 'p12display': 'LOG', 'p12ms': '0', 'p13n': 'G710-A', 'p13s': 'CD19', 'p13b': '32', 'p13r': '261588', 'p13g': '1', 'p13bs': '6053', 'p13display': 'LOG', 'p13ms': '0', 'p14n': 'G660-A', 'p14s': 'CD27', 'p14b': '32', 'p14r': '261588', 'p14g': '1', 'p14bs': '9362', 'p14display': 'LOG', 'p14ms': '0', 'p15n': 'G610-A', 'p15s': 'CCR7', 'p15b': '32', 'p15r': '261588', 'p15g': '1', 'p15bs': '557', 'p15display': 'LOG', 'p15ms': '0', 'p16n': 'G560-A', 'p16s': 'CD127', 'p16b': '32', 'p16r': '261588', 'p16g': '1', 'p16bs': '9808', 'p16display': 'LOG', 'p16ms': '0', 'begindata': '        5120', 'enddata': '     4166143'}\n"
     ]
    }
   ],
   "source": [
    "print(len(fd.events))\n",
    "print(fd.text)"
   ]
  },
  {
   "cell_type": "markdown",
   "metadata": {},
   "source": [
    "# reshape the read-in FlowData object"
   ]
  },
  {
   "cell_type": "markdown",
   "metadata": {},
   "source": [
    "https://github.com/whitews/FlowIO/blob/master/examples/reshape_events.py"
   ]
  },
  {
   "cell_type": "code",
   "execution_count": 5,
   "metadata": {},
   "outputs": [
    {
     "data": {
      "text/plain": [
       "1040256"
      ]
     },
     "execution_count": 5,
     "metadata": {},
     "output_type": "execute_result"
    }
   ],
   "source": [
    "len(fd.events)"
   ]
  },
  {
   "cell_type": "code",
   "execution_count": 6,
   "metadata": {},
   "outputs": [
    {
     "data": {
      "text/plain": [
       "tuple"
      ]
     },
     "execution_count": 6,
     "metadata": {},
     "output_type": "execute_result"
    }
   ],
   "source": [
    "fd.events.__class__"
   ]
  },
  {
   "cell_type": "code",
   "execution_count": 8,
   "metadata": {},
   "outputs": [
    {
     "data": {
      "text/plain": [
       "(27700.75, 27291.75, 177.52584838867188, 1984.484619140625)"
      ]
     },
     "execution_count": 8,
     "metadata": {},
     "output_type": "execute_result"
    }
   ],
   "source": [
    "fd.events[0:4]"
   ]
  },
  {
   "cell_type": "code",
   "execution_count": 13,
   "metadata": {},
   "outputs": [
    {
     "data": {
      "text/plain": [
       "'13,B515-A,R780-A,R710-A,R660-A,V800-A,V655-A,V585-A,V450-A,G780-A,G710-A,G660-A,G610-A,G560-A,1,0,0,0.00008841570561316703,0.0002494559842740046,0.0006451591561972469,0.007198401782797728,0,0,0.00013132619816952714,0.0000665251222573374,0.0005815839652764308,0.0025201730479353047,0,1,0.07118758880093266,0.14844804153215532,0.3389031912802132,0.00971660311243448,0,0,0.3013801753249257,0.007477611134717788,0.0123543122066652,0,0,0,0.33140488468849205,1,0.0619647566095391,0.12097867005182314,0.004052554840959644,0,0,0.1091165124197372,0.10031383324016652,0.005831773047424356,0,0,0,0.08862108746390694,0.38942413967608824,1,0.029758767352535288,0.06555281586224636,0,0,0.03129393154653089,0.039305936245674286,0.09137451237674046,0.00039591122341817164,0.000056659766405160846,0,0.13661791418865094,0.010757316236957385,0,1,0.00015647113960278087,0,0,0.48323487842103036,0.01485813345103798,0,0,0,0,0.00012365104122837034,0.019462610460087203,0.2182062762553545,0.004953221988365214,1,0.003582785726251024,0,0.0013106968243292993,0.029645575685206288,0.4089015923558522,0.006505826616588717,0.00011917703878954761,0,0,0,0,0.001055595075733903,0.002287122431059274,1,0,0.0003885172922042414,0.0001942589956485108,0,0.06255131165904257,0.13248446095817049,0,0,0,0,0,0.008117870042687002,0.17006643956891296,1,0,0,0,0,0,0.003122390646560834,0.008525685683831916,0.001024237027323255,0.0011626412849951272,0.12540105131097395,0.018142202256893485,0.19364562239714117,0,1,0.06689784643460173,0.16145640353506588,0.2868231743828476,1.2380368696528024,0.002015498041918758,0.06964529385206036,0.19471548842271394,0.0010077719457714136,0.15161117217667686,0.0012703511702660231,0.007133491446011225,0,1.1500323358669722,1,0.016076827046672983,0.014674146885307975,0.055351746085494,0.001685226072130514,0.05433993817875603,0.27785224557295884,0.34300826602551504,0.06175281041168121,0.07752283973796613,0.0042628794531131406,0,0.49748791920091034,0.7439226300384197,1,0.010329232815907474,0.03763461149817695,0,0.008713148000954844,0.04821275078920058,0.07319044343609345,0.1505631929508567,0.3862934410767249,0.10189631814602482,0,0.3702770755789083,0.6134900271606913,1.2180240147472128,1,0.06521131251063482,0.0016842378874079343,0,0,0.00009533732312150527,0.0034630076700367675,0.01571183587491517,0.17412189188164517,0,0.023802192010810994,0.049474451704249904,0.13251071256825273,0.23921555785727822,1'"
      ]
     },
     "execution_count": 13,
     "metadata": {},
     "output_type": "execute_result"
    }
   ],
   "source": [
    "fd.text['spill']"
   ]
  },
  {
   "cell_type": "code",
   "execution_count": 10,
   "metadata": {},
   "outputs": [],
   "source": [
    "#f = flowio.FlowData('001_F6901PRY_21_C1_C01.fcs')\n",
    "#n = numpy.reshape(f.events, (-1, f.channel_count))\n",
    "n = numpy.reshape(fd.events, (-1, fd.channel_count))"
   ]
  },
  {
   "cell_type": "code",
   "execution_count": 11,
   "metadata": {},
   "outputs": [
    {
     "data": {
      "text/plain": [
       "(65016, 16)"
      ]
     },
     "execution_count": 11,
     "metadata": {},
     "output_type": "execute_result"
    }
   ],
   "source": [
    "n.shape"
   ]
  },
  {
   "cell_type": "code",
   "execution_count": 5,
   "metadata": {},
   "outputs": [
    {
     "data": {
      "text/plain": [
       "array([[ 27700.75      ,  27291.75      ,    177.52584839, ...,\n",
       "          2550.91430664,   1862.98425293,   1972.48535156],\n",
       "       [ 41264.25      ,  39764.25      ,    320.12295532, ...,\n",
       "          3401.5065918 ,   2471.22363281,   2268.83178711],\n",
       "       [ 65054.75      ,  57606.25      ,    203.0160675 , ...,\n",
       "          1156.66027832,    879.63946533,    802.78210449],\n",
       "       ..., \n",
       "       [ 29046.25      ,  28205.75      ,    250.55567932, ...,\n",
       "          2121.32495117,   1562.25927734,   1683.63220215],\n",
       "       [ 48488.25      ,  48893.        ,    342.35766602, ...,\n",
       "          2775.72119141,   2028.36791992,   2538.3190918 ],\n",
       "       [ 36386.        ,  35730.        ,    149.3036499 , ...,\n",
       "          1527.77282715,   1305.98071289,   1368.90368652]])"
      ]
     },
     "execution_count": 5,
     "metadata": {},
     "output_type": "execute_result"
    }
   ],
   "source": [
    "n"
   ]
  },
  {
   "cell_type": "code",
   "execution_count": 9,
   "metadata": {},
   "outputs": [
    {
     "data": {
      "text/plain": [
       "(65016, 16)"
      ]
     },
     "execution_count": 9,
     "metadata": {},
     "output_type": "execute_result"
    }
   ],
   "source": [
    "n.shape"
   ]
  },
  {
   "cell_type": "code",
   "execution_count": 12,
   "metadata": {},
   "outputs": [
    {
     "ename": "AttributeError",
     "evalue": "'numpy.ndarray' object has no attribute 'text'",
     "output_type": "error",
     "traceback": [
      "\u001b[0;31m---------------------------------------------------------------------------\u001b[0m",
      "\u001b[0;31mAttributeError\u001b[0m                            Traceback (most recent call last)",
      "\u001b[0;32m<ipython-input-12-701b40a69bac>\u001b[0m in \u001b[0;36m<module>\u001b[0;34m()\u001b[0m\n\u001b[0;32m----> 1\u001b[0;31m \u001b[0mn\u001b[0m\u001b[0;34m.\u001b[0m\u001b[0mtext\u001b[0m\u001b[0;34m\u001b[0m\u001b[0m\n\u001b[0m",
      "\u001b[0;31mAttributeError\u001b[0m: 'numpy.ndarray' object has no attribute 'text'"
     ]
    }
   ],
   "source": [
    "n.text"
   ]
  },
  {
   "cell_type": "code",
   "execution_count": 12,
   "metadata": {},
   "outputs": [],
   "source": [
    "import seaborn as sns"
   ]
  },
  {
   "cell_type": "code",
   "execution_count": 13,
   "metadata": {},
   "outputs": [
    {
     "data": {
      "image/png": "[encoded data removed]",
      "text/plain": [
       "<matplotlib.figure.Figure at 0x7f1d6e5b77b8>"
      ]
     },
     "metadata": {},
     "output_type": "display_data"
    }
   ],
   "source": [
    "sns.heatmap(n[:10])\n",
    "sns.plt.show()"
   ]
  },
  {
   "cell_type": "markdown",
   "metadata": {},
   "source": [
    "# print channels"
   ]
  },
  {
   "cell_type": "markdown",
   "metadata": {},
   "source": [
    "https://github.com/whitews/FlowIO/blob/master/examples/print_channels.py"
   ]
  },
  {
   "cell_type": "code",
   "execution_count": 14,
   "metadata": {},
   "outputs": [],
   "source": [
    "import flowio\n",
    "import os\n",
    "import sys"
   ]
  },
  {
   "cell_type": "code",
   "execution_count": 15,
   "metadata": {},
   "outputs": [
    {
     "name": "stdout",
     "output_type": "stream",
     "text": [
      "['/home/clint/anaconda3/lib/python3.6/site-packages/ipykernel_launcher.py', '-f', '/run/user/1000/jupyter/kernel-443e4632-66b1-4e2e-90f6-519bf23a4815.json']\n",
      "==========\n",
      "/media/clint/Data/GitRepo/BIOS822_FinalProj\n"
     ]
    }
   ],
   "source": [
    "print(sys.argv)\n",
    "print(\"==========\")\n",
    "print(os.getcwd())"
   ]
  },
  {
   "cell_type": "code",
   "execution_count": 16,
   "metadata": {},
   "outputs": [],
   "source": [
    "#if len(sys.argv) > 1:\n",
    "#    flow_dir = sys.argv[1]\n",
    "#else:\n",
    "#    flow_dir = os.getcwd()\n",
    "flow_dir = \"/media/clint/Data/GitRepo/Data_FlowHIV\""
   ]
  },
  {
   "cell_type": "code",
   "execution_count": 17,
   "metadata": {},
   "outputs": [
    {
     "name": "stdout",
     "output_type": "stream",
     "text": [
      "['158322.fcs', '100715.fcs', '105696.fcs', '108701.fcs', '109025.fcs', '109567.fcs', '110539.fcs', '113548.fcs', '121069.fcs', '122405.fcs', '127225.fcs', '129599.fcs', '129730.fcs', '129869.fcs', '130119.fcs', '132447.fcs', '132769.fcs', '134892.fcs', '140801.fcs', '145618.fcs', '158483.fcs', '159665.fcs', '162173.fcs', '162520.fcs', '166139.fcs', '167250.fcs', '168908.fcs', '171925.fcs', '174274.fcs', '175520.fcs', '179663.fcs', '183861.fcs', '185809.fcs', '191456.fcs', '192432.fcs', '193061.fcs', '193927.fcs', '198029.fcs', '198775.fcs']\n"
     ]
    }
   ],
   "source": [
    "files = os.listdir(flow_dir)\n",
    "print(files)"
   ]
  },
  {
   "cell_type": "code",
   "execution_count": 19,
   "metadata": {},
   "outputs": [
    {
     "name": "stdout",
     "output_type": "stream",
     "text": [
      "158322.fcs:\n",
      "\t1\tFSC-A\t \n",
      "\t10\tV585-A\tCD57\n",
      "\t11\tV450-A\tVIVID / CD14\n",
      "\t12\tG780-A\tCCR5\n",
      "\t13\tG710-A\tCD19\n",
      "\t14\tG660-A\tCD27\n",
      "\t15\tG610-A\tCCR7\n",
      "\t16\tG560-A\tCD127\n",
      "\t2\tFSC-H\t \n",
      "\t3\tSSC-A\t \n",
      "\t4\tB515-A\tKI67\n",
      "\t5\tR780-A\tCD3\n",
      "\t6\tR710-A\tCD28\n",
      "\t7\tR660-A\tCD45RO\n",
      "\t8\tV800-A\tCD8\n",
      "\t9\tV655-A\tCD4\n",
      "\tCreator: LYSYS\n",
      "\tExport time: 23-AUG-2007-11:16:35\n",
      "\tExperiment name: 070821_AB02_TB\n",
      "\tTube name: Tube_001\n",
      "\tSource: Specimen_001\n",
      "\tTotal: 956052\n",
      "100715.fcs:\n",
      "\t1\tFSC-A\t \n",
      "\t10\tV585-A\tCD57\n",
      "\t11\tV450-A\tVIVID / CD14\n",
      "\t12\tG780-A\tCCR5\n",
      "\t13\tG710-A\tCD19\n",
      "\t14\tG660-A\tCD27\n",
      "\t15\tG610-A\tCCR7\n",
      "\t16\tG560-A\tCD127\n",
      "\t2\tFSC-H\t \n",
      "\t3\tSSC-A\t \n",
      "\t4\tB515-A\tKI67\n",
      "\t5\tR780-A\tCD3\n",
      "\t6\tR710-A\tCD28\n",
      "\t7\tR660-A\tCD45RO\n",
      "\t8\tV800-A\tCD8\n",
      "\t9\tV655-A\tCD4\n",
      "\tCreator: LYSYS\n",
      "\tExport time: 17-JUL-2007-16:04:38\n",
      "\tExperiment name: 070717_AB02_tb\n",
      "\tTube name: Tube_025\n",
      "\tSource: Specimen_001\n",
      "\tTotal: 65016\n",
      "105696.fcs:\n",
      "\t1\tFSC-A\t \n",
      "\t10\tV585-A\tCD57\n",
      "\t11\tV450-A\tVIVID / CD14\n",
      "\t12\tG780-A\tCCR5\n",
      "\t13\tG710-A\tCD19\n",
      "\t14\tG660-A\tCD27\n",
      "\t15\tG610-A\tCCR7\n",
      "\t16\tG560-A\tCD127\n",
      "\t2\tFSC-H\t \n",
      "\t3\tSSC-A\t \n",
      "\t4\tB515-A\tKI67\n",
      "\t5\tR780-A\tCD3\n",
      "\t6\tR710-A\tCD28\n",
      "\t7\tR660-A\tCD45RO\n",
      "\t8\tV800-A\tCD8\n",
      "\t9\tV655-A\tCD4\n",
      "\tCreator: LYSYS\n",
      "\tExport time: 02-AUG-2007-16:27:06\n",
      "\tExperiment name: 070802_AB03_TB\n",
      "\tTube name: Tube_009\n",
      "\tSource: Specimen_001\n",
      "\tTotal: 455184\n",
      "108701.fcs:\n",
      "\t1\tFSC-A\t \n",
      "\t10\tV585-A\tCD57\n",
      "\t11\tV450-A\tVIVID / CD14\n",
      "\t12\tG780-A\tCCR5\n",
      "\t13\tG710-A\tCD19\n",
      "\t14\tG660-A\tCD27\n",
      "\t15\tG610-A\tCCR7\n",
      "\t16\tG560-A\tCD127\n",
      "\t2\tFSC-H\t \n",
      "\t3\tSSC-A\t \n",
      "\t4\tB515-A\tKI67\n",
      "\t5\tR780-A\tCD3\n",
      "\t6\tR710-A\tCD28\n",
      "\t7\tR660-A\tCD45RO\n",
      "\t8\tV800-A\tCD8\n",
      "\t9\tV655-A\tCD4\n",
      "\tCreator: LYSYS\n",
      "\tExport time: 26-JUL-2007-16:10:13\n",
      "\tExperiment name: 070726_AB02_TB\n",
      "\tTube name: Tube_001\n",
      "\tSource: Specimen_001\n",
      "\tTotal: 1000000\n",
      "109025.fcs:\n",
      "\t1\tFSC-A\t \n",
      "\t10\tV585-A\tCD57\n",
      "\t11\tV450-A\tVIVID / CD14\n",
      "\t12\tG780-A\tCCR5\n",
      "\t13\tG710-A\tCD19\n",
      "\t14\tG660-A\tCD27\n",
      "\t15\tG610-A\tCCR7\n",
      "\t16\tG560-A\tCD127\n",
      "\t2\tFSC-H\t \n",
      "\t3\tSSC-A\t \n",
      "\t4\tB515-A\tKI67\n",
      "\t5\tR780-A\tCD3\n",
      "\t6\tR710-A\tCD28\n",
      "\t7\tR660-A\tCD45RO\n",
      "\t8\tV800-A\tCD8\n",
      "\t9\tV655-A\tCD4\n",
      "\tCreator: LYSYS\n",
      "\tExport time: 19-JUL-2007-15:54:53\n",
      "\tExperiment name: 070719_AB02_TB\n",
      "\tTube name: Tube_009\n",
      "\tSource: Specimen_001\n",
      "\tTotal: 210186\n",
      "109567.fcs:\n",
      "\t1\tFSC-A\t \n",
      "\t10\tV585-A\tCD57\n",
      "\t11\tV450-A\tVIVID / CD14\n",
      "\t12\tG780-A\tCCR5\n",
      "\t13\tG710-A\tCD19\n",
      "\t14\tG660-A\tCD27\n",
      "\t15\tG610-A\tCCR7\n",
      "\t16\tG560-A\tCD127\n",
      "\t2\tFSC-H\t \n",
      "\t3\tSSC-A\t \n",
      "\t4\tB515-A\tKI67\n",
      "\t5\tR780-A\tCD3\n",
      "\t6\tR710-A\tCD28\n",
      "\t7\tR660-A\tCD45RO\n",
      "\t8\tV800-A\tCD8\n",
      "\t9\tV655-A\tCD4\n",
      "\tCreator: LYSYS\n",
      "\tExport time: 28-JUN-2007-16:19:31\n",
      "\tExperiment name: 070628_AB03_TB\n",
      "\tTube name: Tube_017\n",
      "\tSource: Specimen_001\n",
      "\tTotal: 160074\n"
     ]
    }
   ],
   "source": [
    "#for file in files:\n",
    "for file in files[:6]: # print six files\n",
    "    try:\n",
    "        flow_data = flowio.FlowData(\"/\".join([flow_dir,file]))\n",
    "    except:\n",
    "        continue\n",
    "\n",
    "    print(file + ':')\n",
    "    for key in sorted(flow_data.channels.keys()):\n",
    "        line = key + '\\t' + \\\n",
    "            flow_data.channels[key]['PnN'] + '\\t'\n",
    "        if 'PnS' in flow_data.channels[key]:\n",
    "            line += flow_data.channels[key]['PnS']\n",
    "\n",
    "        print('\\t' + line)\n",
    "\n",
    "    if 'creator' in flow_data.text:\n",
    "        print('\\t' + 'Creator: ' + flow_data.text['creator'])\n",
    "    if 'export time' in flow_data.text:\n",
    "        print('\\t' + 'Export time: ' + flow_data.text['export time'])\n",
    "    if 'experiment name' in flow_data.text:\n",
    "        print('\\t' + 'Experiment name: ' + flow_data.text['experiment name'])\n",
    "    if 'patient id' in flow_data.text:\n",
    "        print('\\t' + 'Patient ID: ' + flow_data.text['patient id']) \n",
    "    if 'tube name' in flow_data.text:\n",
    "        print('\\t' + 'Tube name: ' + flow_data.text['tube name'])\n",
    "    if 'src' in flow_data.text:\n",
    "        print('\\t' + 'Source: ' + flow_data.text['src'])\n",
    "    if 'sample id' in flow_data.text:\n",
    "        print('\\t' + 'Sample ID: ' + flow_data.text['sample id'])\n",
    "    if 'tot' in flow_data.text:\n",
    "        print('\\t' + 'Total: ' + flow_data.text['tot'])"
   ]
  },
  {
   "cell_type": "code",
   "execution_count": null,
   "metadata": {},
   "outputs": [],
   "source": []
  }
 ],
 "metadata": {
  "kernelspec": {
   "display_name": "Python [default]",
   "language": "python",
   "name": "python3"
  },
  "language_info": {
   "codemirror_mode": {
    "name": "ipython",
    "version": 3
   },
   "file_extension": ".py",
   "mimetype": "text/x-python",
   "name": "python",
   "nbconvert_exporter": "python",
   "pygments_lexer": "ipython3",
   "version": "3.6.1"
  }
 },
 "nbformat": 4,
 "nbformat_minor": 2
}
