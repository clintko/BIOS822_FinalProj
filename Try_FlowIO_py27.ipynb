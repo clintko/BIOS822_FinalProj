{
 "cells": [
  {
   "cell_type": "code",
   "execution_count": 24,
   "metadata": {},
   "outputs": [],
   "source": [
    "import numpy as np\n",
    "import scipy as sc\n",
    "\n",
    "import matplotlib.pyplot as plt\n",
    "import seaborn as sns"
   ]
  },
  {
   "cell_type": "code",
   "execution_count": 5,
   "metadata": {},
   "outputs": [],
   "source": [
    "import flowio\n",
    "import flowutils"
   ]
  },
  {
   "cell_type": "code",
   "execution_count": 6,
   "metadata": {},
   "outputs": [
    {
     "name": "stdout",
     "output_type": "stream",
     "text": [
      "FCS2.0          58    5099    5120 4166143       0       0\\$TOT\\65016\\$PAR\\16\\$MODE\\L\\$BYTEORD\\4,3,2,1\\$FIL\\100715.fcs\\$NEXTDATA\\0\\$DATATYPE\\F\\$BEGINSTEXT\\0\\$BTIM\\15:36:28\\$CYT\\Main Aria (FACSAria)\\$DATE\\17-JUL-2007\\$ENDSTEXT\\0\\$ETIM\\15:38:06\\$INST\\ \\$OP\\Administrator\\$SRC\\Specimen_001\\$SYS\\Windows XP 5.1\\$TIMESTEP\\0.08\\APPLY COMPENSATION\\TRUE\\AUTOBS\\TRUE\\CD Age\\19.6\\CD CD4, %CM\\.\\CD CD4, %EM\\.\\CD CD4, %N\\.\\CD CD4, %TM\\.\\CD Event Censor\\0\\CD First Viral Load\\2024\\CD First Viral Load Date\\11/09/1999\\CD Gag/100 CD4 Cells\\.\\CD Gag/100 CM Cells\\.\\CD Gag/100 EM Cells\\.\\CD Gag/100 N Cells\\.\\CD GAG/100 TM CELLS\\.\\CD Seroconversion Datae\\04/30/1999\\CD Survival time from seroconversion\\63\\CD Time from seroc to sample\\194\\CYTNUM\\1\\EXPERIMENT NAME\\070717_AB02_tb\\EXPORT TIME\\17-JUL-2007-16:04:38\\EXPORT USER NAME\\Administrator\\Final Pin\\100715\\FJ_$P17R\\262144\\FJ_$TIMESTEP\\0.01\\FJ_CompMatrixName\\ \\FSC ASF\\0.63\\GUID\\0d8e743a-05fe-4e8b-9ec4-25993c124ee2\\Index\\416\\LASER1ASF\\0.66\\LASER1DELAY\\0.00\\LASER1NAME\\Blue\\LASER2ASF\\0.55\\LASER2DELAY\\-59.80\\LASER2NAME\\Red\\LASER3ASF\\0.48\\LASER3DELAY\\-24.40\\LASER3NAME\\Violet\\LASER4ASF\\0.53\\LASER4DELAY\\-82.60\\LASER4NAME\\Green\\Live Cells Recovered\\ \\PIN\\ \\pin check\\ \\SORT TYPE\\SORT\\SPILL\\13,B515-A,R780-A,R710-A,R660-A,V800-A,V655-A,V585-A,V450-A,G780-A,G710-A,G660-A,G610-A,G560-A,1,0,0,0.00008841570561316703,0.0002494559842740046,0.0006451591561972469,0.007198401782797728,0,0,0.00013132619816952714,0.0000665251222573374,0.0005815839652764308,0.0025201730479353047,0,1,0.07118758880093266,0.14844804153215532,0.3389031912802132,0.00971660311243448,0,0,0.3013801753249257,0.007477611134717788,0.0123543122066652,0,0,0,0.33140488468849205,1,0.0619647566095391,0.12097867005182314,0.004052554840959644,0,0,0.1091165124197372,0.10031383324016652,0.005831773047424356,0,0,0,0.08862108746390694,0.38942413967608824,1,0.029758767352535288,0.06555281586224636,0,0,0.03129393154653089,0.039305936245674286,0.09137451237674046,0.00039591122341817164,0.000056659766405160846,0,0.13661791418865094,0.010757316236957385,0,1,0.00015647113960278087,0,0,0.48323487842103036,0.01485813345103798,0,0,0,0,0.00012365104122837034,0.019462610460087203,0.2182062762553545,0.004953221988365214,1,0.003582785726251024,0,0.0013106968243292993,0.029645575685206288,0.4089015923558522,0.006505826616588717,0.00011917703878954761,0,0,0,0,0.001055595075733903,0.002287122431059274,1,0,0.0003885172922042414,0.0001942589956485108,0,0.06255131165904257,0.13248446095817049,0,0,0,0,0,0.008117870042687002,0.17006643956891296,1,0,0,0,0,0,0.003122390646560834,0.008525685683831916,0.001024237027323255,0.0011626412849951272,0.12540105131097395,0.018142202256893485,0.19364562239714117,0,1,0.06689784643460173,0.16145640353506588,0.2868231743828476,1.2380368696528024,0.002015498041918758,0.06964529385206036,0.19471548842271394,0.0010077719457714136,0.15161117217667686,0.0012703511702660231,0.007133491446011225,0,1.1500323358669722,1,0.016076827046672983,0.014674146885307975,0.055351746085494,0.001685226072130514,0.05433993817875603,0.27785224557295884,0.34300826602551504,0.06175281041168121,0.07752283973796613,0.0042628794531131406,0,0.49748791920091034,0.7439226300384197,1,0.010329232815907474,0.03763461149817695,0,0.008713148000954844,0.04821275078920058,0.07319044343609345,0.1505631929508567,0.3862934410767249,0.10189631814602482,0,0.3702770755789083,0.6134900271606913,1.2180240147472128,1,0.06521131251063482,0.0016842378874079343,0,0,0.00009533732312150527,0.0034630076700367675,0.01571183587491517,0.17412189188164517,0,0.023802192010810994,0.049474451704249904,0.13251071256825273,0.23921555785727822,1\\THRESHOLD\\FSC,27000\\TUBE NAME\\Tube_025\\Viability\\ \\VIAL ID\\100715\\VRC ID\\ \\WINDOW EXTENSION\\3.00\\CREATOR\\LYSYS\\$P1N\\FSC-A\\$P1S\\ \\$P1B\\32\\$P1R\\262207\\$P1G\\1\\P1BS\\0\\P1DISPLAY\\LIN\\P1MS\\0\\$P2N\\FSC-H\\$P2S\\ \\$P2B\\32\\$P2R\\262207\\$P2G\\1\\P2BS\\0\\P2DISPLAY\\LIN\\P2MS\\0\\$P3N\\SSC-A\\$P3S\\ \\$P3B\\32\\$P3R\\261588\\$P3G\\1\\P3BS\\0\\P3DISPLAY\\LOG\\P3MS\\0\\$P4N\\B515-A\\$P4S\\KI67\\$P4B\\32\\$P4R\\261588\\$P4G\\1\\P4BS\\0\\P4DISPLAY\\LOG\\P4MS\\0\\$P5N\\R780-A\\$P5S\\CD3\\$P5B\\32\\$P5R\\261588\\$P5G\\1\\P5BS\\2926\\P5DISPLAY\\LOG\\P5MS\\0\\$P6N\\R710-A\\$P6S\\CD28\\$P6B\\32\\$P6R\\261588\\$P6G\\1\\P6BS\\1162\\P6DISPLAY\\LOG\\P6MS\\0\\$P7N\\R660-A\\$P7S\\CD45RO\\$P7B\\32\\$P7R\\261588\\$P7G\\1\\P7BS\\1849\\P7DISPLAY\\LOG\\P7MS\\0\\$P8N\\V800-A\\$P8S\\CD8\\$P8B\\32\\$P8R\\261588\\$P8G\\1\\P8BS\\2029\\P8DISPLAY\\LOG\\P8MS\\0\\$P9N\\V655-A\\$P9S\\CD4\\$P9B\\32\\$P9R\\261588\\$P9G\\1\\P9BS\\3343\\P9DISPLAY\\LOG\\P9MS\\0\\$P10N\\V585-A\\$P10S\\CD57\\$P10B\\32\\$P10R\\261588\\$P10G\\1\\P10BS\\331\\P10DISPLAY\\LOG\\P10MS\\0\\$P11N\\V450-A\\$P11S\\VIVID / CD14\\$P11B\\32\\$P11R\\261588\\$P11G\\1\\P11BS\\0\\P11DISPLAY\\LOG\\P11MS\\0\\$P12N\\G780-A\\$P12S\\CCR5\\$P12B\\32\\$P12R\\261588\\$P12G\\1\\P12BS\\14511\\P12DISPLAY\\LOG\\P12MS\\0\\$P13N\\G710-A\\$P13S\\CD19\\$P13B\\32\\$P13R\\261588\\$P13G\\1\\P13BS\\6053\\P13DISPLAY\\LOG\\P13MS\\0\\$P14N\\G660-A\\$P14S\\CD27\\$P14B\\32\\$P14R\\261588\\$P14G\\1\\P14BS\\9362\\P14DISPLAY\\LOG\\P14MS\\0\\$P15N\\G610-A\\$P15S\\CCR7\\$P15B\\32\\$P15R\\261588\\$P15G\\1\\P15BS\\557\\P15DISPLAY\\LOG\\P15MS\\0\\$P16N\\G560-A\\$P16S\\CD127\\$P16B\\32\\$P16R\\261588\\$P16G\\1\\P16BS\\9808\\P16DISPLAY\\LOG\\P16MS\\0\\$BEGINDATA\\        5120\\$ENDDATA\\     4166143\\                    F�i�F�7�C1��D�\u000f�D\u001c",
      "E\u0018D�\u0003:D; �D� �D��5EF{wE\u0012!�E\u000e�D�͕E\u001fn�D��D���G!0@G\u001bT@C�\u000f�Ecy�D\u0006�\u0002D�)�D�ȂE\n",
      "E���E{��E��G\u001c",
      "@�G\u001d",
      "\u0015�Cl��E\u001f\u001d",
      "�D�5�E\u0010��D�c%E:��DE���Gx�\u0000GTˀD�OxErp�D�Y�E_Y\u000b",
      "D�{�E��zE_��F\u000f}8E�\u0007�E�&�E�=�E\u0000�\u0017D���Ev�_E\u001b\u0003yE!�\u0004D�QGE-\u000e&G\u001aQ�G\u001a�\u0000CK@mE\u001e",
      "��C���DVI�D2�\u0007D��HD�R�En(;EW#%D��\u0000D�y�E+��E\u0004g�D�\u0011*G\u0001��G\u0007�\u0000C��<E\t\n",
      "o�C='�E>��D�\u0019\u000b",
      "E0{�D���E0��E\u0000Z�E��\u0007E7/E�\u000f\u001fEY|GEc�\u0014E4TyE��\f",
      "F�ŀF�x\u0000CQ�\u001aD�PD\u0019\u0011\u001bD���DY�#D�\u0006�D�� E-�2E\u0011�d@�D�E(�D�5�D�M\u0004Ga�@GT�@D��FJ��E�d�F0��E�F���F�BcF�_E�P�Ff��FOm�F��\u0018Fe�\u0005F\u0013\u0005\u000eG\u0002\u0015\u0000G\u0001E�CPx�E\u0006)�C��HDU�HDS|FD���D�(�E+�ID�0�Dօ�D��\u0014E\u0003�D��!D�f�G\u0006�@G\n",
      "=�ElP�D�_,E�1<Et!�E�/�E`-;E�\u000e]F开F�w\u0000Cg��E<\u0006\u0013Dyx�E\u0010�?D�F�Dۧ�D��E<�\u001aDä\u0000Ez�bE\u001aolE7��E\u000f\u0013�Eb�@GC:�G=��D\u0006B�EC%}DuG�E\f",
      "��D�\u001c",
      "E\u001d",
      "g�E\u000b",
      "h�E���Ea��E�PE#7mES0�E$��Eh��G\u001b��G\u0012��CF��E)�D�#\u0001E8\u0019$D�$#E\t��D��`E@\n",
      "�D���E�3E\\��E_��E5_�E��hG\u0002s\u0000G\n",
      "d�C4N$E$�sDl�rE\u0005��D��D���E\u0000��Ee�sE#9_E\\�\u0010E$f\u0002Ea�\u001e",
      "E*t�E4@*F޺�F��\u0000CfF#D�\u0006mD�fnD�d�D\\��D�2�D,\tqD�H�D\u001a4/EaF�D�S<D�&�D��e�Es\u0006mG]W�GI\u0002@C_\u0010mEI\u001d",
      "�C�O�D��D��D���D�6\u0007ET^AE#��D��SD��\u001fE\u0019�2D�BpD��4GF��G=�@C���Eh%�D\u0010D�D��\u001bD�\u0003%D�(\u000b",
      "E\u0001пEPMDE%�IE\u0001��D�ܰE3��D�z%D�FPG\n",
      "�F��\u0000C\u0002(S�D�m�E\t�\u001bE���D�.�E\u001c",
      "��D�]\u0011E\u001e",
      "\u0004�E(��E�\u0006�E`_PE=4\u0014E\u0007��EN��G[\u0018�GJ�\u0000D��JE���Da�sD��D��\tE]�jEO��F 9�E��ESXrE\u0010\u001a]E4ӽE\u000b",
      "��EX�MG:S@G9�\u0000C�J{E+��D���E\u001d",
      "�TE\u0001./E\u0004�:E\u0018\u0011�E���ER\u001c",
      "�E�6�E^\u0017�E���EbUxEl�qF�D��VE)*'E\t|�Ee\u0005\u0017E@��ETUnF�r\u0000F�\u0000C\u001a��D�@\tDk�\n",
      " Ez\u0019lE\t��El�XD�a�E\u00107�D�]6D�S:D�y�E���E@U�E\u001c",
      "�BE\u0005�/E�E\u0010G �\u0000G#?�C8M9E3[�D:!�D�҈D�\u000e\u001d",
      "D�K\u0003D���ED�\u0006D�\u001e",
      "�E\u0015\u001d",
      "�D�#\u0007��D�9�D�|\u0007G\u001d",
      "��G ��Cc\u0010\u0015EUIZD�(E\u0015Y�D��\f",
      "D�\u001e",
      "\u0003D���EV��D�\n",
      "��G\u0013u�C(@mE2�xC��\u0010D\"\u000fnD\u0015�zD\u0019�\"D�E\n",
      "DC��C�\u001a�D���D9E\u001b\u0019�D�nyDg�\"DG�eD�\u0010�G?�\u0000G@\u0001@CM�EH�3D�3\u0000E+6.D��\f",
      "E\u0016\u0002ME\u0013�gE���EL\u001d",
      "�E҂�EzP�E�-sE]okE���G!ՀG\u0019;�Ch<XD��\f",
      "DÅtEK��D<��E\u0019/�D�G;E ɺE��\u000fF\u0018\u0007_E��2E#�xE\u00130�E�3�F�ÀF�G�B�~�Dc4D��xEr��D-�^E\u000b",
      "��D;�D�I-E\u0007\u001b�E�[�E��\u0015%NDEmq�G�� G�=@C��_El�D\u000b",
      "��D�c\tD\u0019�;D��iD��EDùE9NTE\u001c",
      "�\u0004D�eE/\t�E\u000b",
      "z�E5��F� \u0000F�1\u0000C��-E\u001e",
      "�\u0006E<i�E�\u0013�E�3\u0011EyU)Fp�\u0000F�$�D�j$E��E�P�F\u001d",
      "\u0012�E�s8F\u000b",
      "d�G$\u0005�G\u001d",
      "\u0004�CO�SE\u001c",
      "�mE\u000f\u0004 E��\n"
     ]
    }
   ],
   "source": [
    "!head /media/clint/Data/GitRepo/Data_FlowHIV/100715.fcs"
   ]
  },
  {
   "cell_type": "markdown",
   "metadata": {},
   "source": [
    "# Import flow data using flowio"
   ]
  },
  {
   "cell_type": "code",
   "execution_count": 8,
   "metadata": {},
   "outputs": [
    {
     "data": {
      "text/plain": [
       "100715.fcs"
      ]
     },
     "execution_count": 8,
     "metadata": {},
     "output_type": "execute_result"
    }
   ],
   "source": [
    "fd = flowio.FlowData(\"/media/clint/Data/GitRepo/Data_FlowHIV/100715.fcs\")\n",
    "fd"
   ]
  },
  {
   "cell_type": "code",
   "execution_count": 9,
   "metadata": {},
   "outputs": [
    {
     "name": "stdout",
     "output_type": "stream",
     "text": [
      "{u'11': {'PnS': u'VIVID / CD14', 'PnN': u'V450-A'}, u'10': {'PnS': u'CD57', 'PnN': u'V585-A'}, u'13': {'PnS': u'CD19', 'PnN': u'G710-A'}, u'12': {'PnS': u'CCR5', 'PnN': u'G780-A'}, u'15': {'PnS': u'CCR7', 'PnN': u'G610-A'}, u'14': {'PnS': u'CD27', 'PnN': u'G660-A'}, u'16': {'PnS': u'CD127', 'PnN': u'G560-A'}, u'1': {'PnS': u' ', 'PnN': u'FSC-A'}, u'3': {'PnS': u' ', 'PnN': u'SSC-A'}, u'2': {'PnS': u' ', 'PnN': u'FSC-H'}, u'5': {'PnS': u'CD3', 'PnN': u'R780-A'}, u'4': {'PnS': u'KI67', 'PnN': u'B515-A'}, u'7': {'PnS': u'CD45RO', 'PnN': u'R660-A'}, u'6': {'PnS': u'CD28', 'PnN': u'R710-A'}, u'9': {'PnS': u'CD4', 'PnN': u'V655-A'}, u'8': {'PnS': u'CD8', 'PnN': u'V800-A'}}\n"
     ]
    }
   ],
   "source": [
    "print(fd.channels)"
   ]
  },
  {
   "cell_type": "markdown",
   "metadata": {},
   "source": [
    "PnN -> Pn1, Pn2, Pn3, .... This is the required  \n",
    "PnN will be the fluorescent color / molecular  \n",
    "The rest of them are optional, often the PnS will be the markers name  \n",
    "\n",
    "For example: 'PnS': u'VIVID / CD14', 'PnN': u'V450-A'\n",
    "- V450-A\n",
    "    - v450 fluorochrome\n",
    "    - A --- Area\n",
    "- the molecule measured: CD14"
   ]
  },
  {
   "cell_type": "markdown",
   "metadata": {},
   "source": [
    "# reshape the read-in FlowData object"
   ]
  },
  {
   "cell_type": "markdown",
   "metadata": {},
   "source": [
    "https://github.com/whitews/FlowIO/blob/master/examples/reshape_events.py"
   ]
  },
  {
   "cell_type": "code",
   "execution_count": 12,
   "metadata": {},
   "outputs": [
    {
     "data": {
      "text/plain": [
       "1040256"
      ]
     },
     "execution_count": 12,
     "metadata": {},
     "output_type": "execute_result"
    }
   ],
   "source": [
    "# numbers of cells\n",
    "len(fd.events)"
   ]
  },
  {
   "cell_type": "code",
   "execution_count": 16,
   "metadata": {},
   "outputs": [],
   "source": [
    "#f = flowio.FlowData('001_F6901PRY_21_C1_C01.fcs')\n",
    "#n = numpy.reshape(f.events, (-1, f.channel_count))\n",
    "n = np.reshape(fd.events, (-1, fd.channel_count))"
   ]
  },
  {
   "cell_type": "code",
   "execution_count": 17,
   "metadata": {},
   "outputs": [
    {
     "data": {
      "text/plain": [
       "(65016, 16)"
      ]
     },
     "execution_count": 17,
     "metadata": {},
     "output_type": "execute_result"
    }
   ],
   "source": [
    "n.shape"
   ]
  },
  {
   "cell_type": "code",
   "execution_count": 18,
   "metadata": {},
   "outputs": [
    {
     "data": {
      "text/plain": [
       "1040256"
      ]
     },
     "execution_count": 18,
     "metadata": {},
     "output_type": "execute_result"
    }
   ],
   "source": [
    "n.shape[0] * n.shape[1]"
   ]
  },
  {
   "cell_type": "code",
   "execution_count": 26,
   "metadata": {},
   "outputs": [
    {
     "data": {
      "text/plain": [
       "<matplotlib.axes._subplots.AxesSubplot at 0x7fe9bd83f5d0>"
      ]
     },
     "execution_count": 26,
     "metadata": {},
     "output_type": "execute_result"
    },
    {
     "data": {
      "image/png": "[encoded data removed]",
      "text/plain": [
       "<Figure size 432x288 with 2 Axes>"
      ]
     },
     "metadata": {},
     "output_type": "display_data"
    }
   ],
   "source": [
    "sns.heatmap(n[:10])"
   ]
  },
  {
   "cell_type": "markdown",
   "metadata": {},
   "source": [
    "# print channels"
   ]
  },
  {
   "cell_type": "markdown",
   "metadata": {},
   "source": [
    "https://github.com/whitews/FlowIO/blob/master/examples/print_channels.py"
   ]
  },
  {
   "cell_type": "code",
   "execution_count": 27,
   "metadata": {},
   "outputs": [],
   "source": [
    "import flowio\n",
    "import os\n",
    "import sys"
   ]
  },
  {
   "cell_type": "code",
   "execution_count": 28,
   "metadata": {},
   "outputs": [
    {
     "name": "stdout",
     "output_type": "stream",
     "text": [
      "['/home/clint/anaconda3/envs/py27/lib/python2.7/site-packages/ipykernel/__main__.py', '-f', '/run/user/1000/jupyter/kernel-2fde21a5-2686-4e72-b5b0-8aaffd39f063.json']\n",
      "==========\n",
      "/media/clint/Data/GitRepo/BIOS822_FinalProj\n"
     ]
    }
   ],
   "source": [
    "print(sys.argv)\n",
    "print(\"==========\")\n",
    "print(os.getcwd())"
   ]
  },
  {
   "cell_type": "code",
   "execution_count": 30,
   "metadata": {},
   "outputs": [
    {
     "name": "stdout",
     "output_type": "stream",
     "text": [
      "['158322.fcs', '100715.fcs', '105696.fcs', '108701.fcs', '109025.fcs', '109567.fcs', '110539.fcs', '113548.fcs', '121069.fcs', '122405.fcs', '127225.fcs', '129599.fcs', '129730.fcs', '129869.fcs', '130119.fcs', '132447.fcs', '132769.fcs', '134892.fcs', '140801.fcs', '145618.fcs', '158483.fcs', '159665.fcs', '162173.fcs', '162520.fcs', '166139.fcs', '167250.fcs', '168908.fcs', '171925.fcs', '174274.fcs', '175520.fcs', '179663.fcs', '183861.fcs', '185809.fcs', '191456.fcs', '192432.fcs', '193061.fcs', '193927.fcs', '198029.fcs', '198775.fcs']\n"
     ]
    }
   ],
   "source": [
    "flow_dir = \"/media/clint/Data/GitRepo/Data_FlowHIV\"\n",
    "files = os.listdir(flow_dir)\n",
    "print(files)"
   ]
  },
  {
   "cell_type": "code",
   "execution_count": 31,
   "metadata": {},
   "outputs": [
    {
     "name": "stdout",
     "output_type": "stream",
     "text": [
      "158322.fcs:\n",
      "\t1\tFSC-A\t \n",
      "\t10\tV585-A\tCD57\n",
      "\t11\tV450-A\tVIVID / CD14\n",
      "\t12\tG780-A\tCCR5\n",
      "\t13\tG710-A\tCD19\n",
      "\t14\tG660-A\tCD27\n",
      "\t15\tG610-A\tCCR7\n",
      "\t16\tG560-A\tCD127\n",
      "\t2\tFSC-H\t \n",
      "\t3\tSSC-A\t \n",
      "\t4\tB515-A\tKI67\n",
      "\t5\tR780-A\tCD3\n",
      "\t6\tR710-A\tCD28\n",
      "\t7\tR660-A\tCD45RO\n",
      "\t8\tV800-A\tCD8\n",
      "\t9\tV655-A\tCD4\n",
      "\tCreator: LYSYS\n",
      "\tExport time: 23-AUG-2007-11:16:35\n",
      "\tExperiment name: 070821_AB02_TB\n",
      "\tTube name: Tube_001\n",
      "\tSource: Specimen_001\n",
      "\tTotal: 956052\n",
      "100715.fcs:\n",
      "\t1\tFSC-A\t \n",
      "\t10\tV585-A\tCD57\n",
      "\t11\tV450-A\tVIVID / CD14\n",
      "\t12\tG780-A\tCCR5\n",
      "\t13\tG710-A\tCD19\n",
      "\t14\tG660-A\tCD27\n",
      "\t15\tG610-A\tCCR7\n",
      "\t16\tG560-A\tCD127\n",
      "\t2\tFSC-H\t \n",
      "\t3\tSSC-A\t \n",
      "\t4\tB515-A\tKI67\n",
      "\t5\tR780-A\tCD3\n",
      "\t6\tR710-A\tCD28\n",
      "\t7\tR660-A\tCD45RO\n",
      "\t8\tV800-A\tCD8\n",
      "\t9\tV655-A\tCD4\n",
      "\tCreator: LYSYS\n",
      "\tExport time: 17-JUL-2007-16:04:38\n",
      "\tExperiment name: 070717_AB02_tb\n",
      "\tTube name: Tube_025\n",
      "\tSource: Specimen_001\n",
      "\tTotal: 65016\n",
      "105696.fcs:\n",
      "\t1\tFSC-A\t \n",
      "\t10\tV585-A\tCD57\n",
      "\t11\tV450-A\tVIVID / CD14\n",
      "\t12\tG780-A\tCCR5\n",
      "\t13\tG710-A\tCD19\n",
      "\t14\tG660-A\tCD27\n",
      "\t15\tG610-A\tCCR7\n",
      "\t16\tG560-A\tCD127\n",
      "\t2\tFSC-H\t \n",
      "\t3\tSSC-A\t \n",
      "\t4\tB515-A\tKI67\n",
      "\t5\tR780-A\tCD3\n",
      "\t6\tR710-A\tCD28\n",
      "\t7\tR660-A\tCD45RO\n",
      "\t8\tV800-A\tCD8\n",
      "\t9\tV655-A\tCD4\n",
      "\tCreator: LYSYS\n",
      "\tExport time: 02-AUG-2007-16:27:06\n",
      "\tExperiment name: 070802_AB03_TB\n",
      "\tTube name: Tube_009\n",
      "\tSource: Specimen_001\n",
      "\tTotal: 455184\n",
      "108701.fcs:\n",
      "\t1\tFSC-A\t \n",
      "\t10\tV585-A\tCD57\n",
      "\t11\tV450-A\tVIVID / CD14\n",
      "\t12\tG780-A\tCCR5\n",
      "\t13\tG710-A\tCD19\n",
      "\t14\tG660-A\tCD27\n",
      "\t15\tG610-A\tCCR7\n",
      "\t16\tG560-A\tCD127\n",
      "\t2\tFSC-H\t \n",
      "\t3\tSSC-A\t \n",
      "\t4\tB515-A\tKI67\n",
      "\t5\tR780-A\tCD3\n",
      "\t6\tR710-A\tCD28\n",
      "\t7\tR660-A\tCD45RO\n",
      "\t8\tV800-A\tCD8\n",
      "\t9\tV655-A\tCD4\n",
      "\tCreator: LYSYS\n",
      "\tExport time: 26-JUL-2007-16:10:13\n",
      "\tExperiment name: 070726_AB02_TB\n",
      "\tTube name: Tube_001\n",
      "\tSource: Specimen_001\n",
      "\tTotal: 1000000\n",
      "109025.fcs:\n",
      "\t1\tFSC-A\t \n",
      "\t10\tV585-A\tCD57\n",
      "\t11\tV450-A\tVIVID / CD14\n",
      "\t12\tG780-A\tCCR5\n",
      "\t13\tG710-A\tCD19\n",
      "\t14\tG660-A\tCD27\n",
      "\t15\tG610-A\tCCR7\n",
      "\t16\tG560-A\tCD127\n",
      "\t2\tFSC-H\t \n",
      "\t3\tSSC-A\t \n",
      "\t4\tB515-A\tKI67\n",
      "\t5\tR780-A\tCD3\n",
      "\t6\tR710-A\tCD28\n",
      "\t7\tR660-A\tCD45RO\n",
      "\t8\tV800-A\tCD8\n",
      "\t9\tV655-A\tCD4\n",
      "\tCreator: LYSYS\n",
      "\tExport time: 19-JUL-2007-15:54:53\n",
      "\tExperiment name: 070719_AB02_TB\n",
      "\tTube name: Tube_009\n",
      "\tSource: Specimen_001\n",
      "\tTotal: 210186\n",
      "109567.fcs:\n",
      "\t1\tFSC-A\t \n",
      "\t10\tV585-A\tCD57\n",
      "\t11\tV450-A\tVIVID / CD14\n",
      "\t12\tG780-A\tCCR5\n",
      "\t13\tG710-A\tCD19\n",
      "\t14\tG660-A\tCD27\n",
      "\t15\tG610-A\tCCR7\n",
      "\t16\tG560-A\tCD127\n",
      "\t2\tFSC-H\t \n",
      "\t3\tSSC-A\t \n",
      "\t4\tB515-A\tKI67\n",
      "\t5\tR780-A\tCD3\n",
      "\t6\tR710-A\tCD28\n",
      "\t7\tR660-A\tCD45RO\n",
      "\t8\tV800-A\tCD8\n",
      "\t9\tV655-A\tCD4\n",
      "\tCreator: LYSYS\n",
      "\tExport time: 28-JUN-2007-16:19:31\n",
      "\tExperiment name: 070628_AB03_TB\n",
      "\tTube name: Tube_017\n",
      "\tSource: Specimen_001\n",
      "\tTotal: 160074\n"
     ]
    }
   ],
   "source": [
    "for file in files[:6]: # print six files\n",
    "    try:\n",
    "        flow_data = flowio.FlowData(\"/\".join([flow_dir,file]))\n",
    "    except:\n",
    "        continue\n",
    "\n",
    "    print(file + ':')\n",
    "    for key in sorted(flow_data.channels.keys()):\n",
    "        line = key + '\\t' + \\\n",
    "            flow_data.channels[key]['PnN'] + '\\t'\n",
    "        if 'PnS' in flow_data.channels[key]:\n",
    "            line += flow_data.channels[key]['PnS']\n",
    "\n",
    "        print('\\t' + line)\n",
    "\n",
    "    if 'creator' in flow_data.text:\n",
    "        print('\\t' + 'Creator: ' + flow_data.text['creator'])\n",
    "    if 'export time' in flow_data.text:\n",
    "        print('\\t' + 'Export time: ' + flow_data.text['export time'])\n",
    "    if 'experiment name' in flow_data.text:\n",
    "        print('\\t' + 'Experiment name: ' + flow_data.text['experiment name'])\n",
    "    if 'patient id' in flow_data.text:\n",
    "        print('\\t' + 'Patient ID: ' + flow_data.text['patient id']) \n",
    "    if 'tube name' in flow_data.text:\n",
    "        print('\\t' + 'Tube name: ' + flow_data.text['tube name'])\n",
    "    if 'src' in flow_data.text:\n",
    "        print('\\t' + 'Source: ' + flow_data.text['src'])\n",
    "    if 'sample id' in flow_data.text:\n",
    "        print('\\t' + 'Sample ID: ' + flow_data.text['sample id'])\n",
    "    if 'tot' in flow_data.text:\n",
    "        print('\\t' + 'Total: ' + flow_data.text['tot'])"
   ]
  },
  {
   "cell_type": "code",
   "execution_count": null,
   "metadata": {},
   "outputs": [],
   "source": []
  },
  {
   "cell_type": "markdown",
   "metadata": {},
   "source": [
    "# Compensation"
   ]
  },
  {
   "cell_type": "markdown",
   "metadata": {},
   "source": [
    "fd.text contains the compensation matrix"
   ]
  },
  {
   "cell_type": "code",
   "execution_count": 10,
   "metadata": {},
   "outputs": [
    {
     "name": "stdout",
     "output_type": "stream",
     "text": [
      "1040256\n",
      "{u'p16ms': u'0', u'p1b': u'32', u'cd cd4, %n': u'.', u'p1g': u'1', u'p9r': u'261588', u'p9s': u'CD4', u'laser3delay': u'-24.40', u'p5bs': u'2926', u'p1r': u'262207', u'p1s': u' ', u'p3bs': u'0', u'p16b': u'32', u'threshold': u'FSC,27000', u'p9b': u'32', u'cd gag/100 cd4 cells': u'.', u'p9g': u'1', u'p16bs': u'9808', u'p10bs': u'331', u'p16g': u'1', u'p13display': u'LOG', u'p6bs': u'1162', u'p1bs': u'0', u'p10ms': u'0', u'fil': u'100715.fcs', u'p13bs': u'6053', u'vrc id': u' ', u'p12bs': u'14511', u'p8s': u'CD8', u'p8r': u'261588', u'p11bs': u'0', u'cd survival time from seroconversion': u'63', u'begindata': u'        5120', u'cd first viral load date': u'11/09/1999', u'p1n': u'FSC-A', u'p8b': u'32', u'p8g': u'1', u'enddata': u'     4166143', u'window extension': u'3.00', u'byteord': u'4,3,2,1', u'p11ms': u'0', u'cd seroconversion datae': u'04/30/1999', u'beginstext': u'0', u'p3display': u'LOG', u'p7display': u'LOG', u'p4ms': u'0', u'mode': u'L', u'autobs': u'TRUE', u'p3g': u'1', u'etim': u'15:38:06', u'p3n': u'SSC-A', u'p9n': u'V655-A', u'p11display': u'LOG', u'creator': u'LYSYS', u'p3b': u'32', u'export time': u'17-JUL-2007-16:04:38', u'p8display': u'LOG', u'fj_p17r': u'262144', u'cd gag/100 cm cells': u'.', u'cytnum': u'1', u'p13g': u'1', u'p16s': u'CD127', u'p13b': u'32', u'p3r': u'261588', u'p3s': u' ', u'p13n': u'G710-A', u'index': u'416', u'p14b': u'32', u'p14g': u'1', u'apply compensation': u'TRUE', u'viability': u' ', u'p14n': u'G660-A', u'p14s': u'CD27', u'p14r': u'261588', u'fj_compmatrixname': u' ', u'p7ms': u'0', u'p10display': u'LOG', u'p2g': u'1', u'endstext': u'0', u'p2b': u'32', u'p6display': u'LOG', u'p2n': u'FSC-H', u'final pin': u'100715', u'p2display': u'LIN', u'p2s': u' ', u'p2r': u'262207', u'p14display': u'LOG', u'cd cd4, %cm': u'.', u'src': u'Specimen_001', u'p15b': u'32', u'spill': u'13,B515-A,R780-A,R710-A,R660-A,V800-A,V655-A,V585-A,V450-A,G780-A,G710-A,G660-A,G610-A,G560-A,1,0,0,0.00008841570561316703,0.0002494559842740046,0.0006451591561972469,0.007198401782797728,0,0,0.00013132619816952714,0.0000665251222573374,0.0005815839652764308,0.0025201730479353047,0,1,0.07118758880093266,0.14844804153215532,0.3389031912802132,0.00971660311243448,0,0,0.3013801753249257,0.007477611134717788,0.0123543122066652,0,0,0,0.33140488468849205,1,0.0619647566095391,0.12097867005182314,0.004052554840959644,0,0,0.1091165124197372,0.10031383324016652,0.005831773047424356,0,0,0,0.08862108746390694,0.38942413967608824,1,0.029758767352535288,0.06555281586224636,0,0,0.03129393154653089,0.039305936245674286,0.09137451237674046,0.00039591122341817164,0.000056659766405160846,0,0.13661791418865094,0.010757316236957385,0,1,0.00015647113960278087,0,0,0.48323487842103036,0.01485813345103798,0,0,0,0,0.00012365104122837034,0.019462610460087203,0.2182062762553545,0.004953221988365214,1,0.003582785726251024,0,0.0013106968243292993,0.029645575685206288,0.4089015923558522,0.006505826616588717,0.00011917703878954761,0,0,0,0,0.001055595075733903,0.002287122431059274,1,0,0.0003885172922042414,0.0001942589956485108,0,0.06255131165904257,0.13248446095817049,0,0,0,0,0,0.008117870042687002,0.17006643956891296,1,0,0,0,0,0,0.003122390646560834,0.008525685683831916,0.001024237027323255,0.0011626412849951272,0.12540105131097395,0.018142202256893485,0.19364562239714117,0,1,0.06689784643460173,0.16145640353506588,0.2868231743828476,1.2380368696528024,0.002015498041918758,0.06964529385206036,0.19471548842271394,0.0010077719457714136,0.15161117217667686,0.0012703511702660231,0.007133491446011225,0,1.1500323358669722,1,0.016076827046672983,0.014674146885307975,0.055351746085494,0.001685226072130514,0.05433993817875603,0.27785224557295884,0.34300826602551504,0.06175281041168121,0.07752283973796613,0.0042628794531131406,0,0.49748791920091034,0.7439226300384197,1,0.010329232815907474,0.03763461149817695,0,0.008713148000954844,0.04821275078920058,0.07319044343609345,0.1505631929508567,0.3862934410767249,0.10189631814602482,0,0.3702770755789083,0.6134900271606913,1.2180240147472128,1,0.06521131251063482,0.0016842378874079343,0,0,0.00009533732312150527,0.0034630076700367675,0.01571183587491517,0.17412189188164517,0,0.023802192010810994,0.049474451704249904,0.13251071256825273,0.23921555785727822,1', u'laser1delay': u'0.00', u'cd event censor': u'0', u'laser3asf': u'0.48', u'p6s': u'CD28', u'p10n': u'V585-A', u'p7bs': u'1849', u'p6b': u'32', u'p15r': u'261588', u'p15s': u'CCR7', u'tube name': u'Tube_025', u'p3ms': u'0', u'p9bs': u'3343', u'op': u'Administrator', u'p11r': u'261588', u'p11s': u'VIVID / CD14', u'p5n': u'R780-A', u'p15bs': u'557', u'cd time from seroc to sample': u'194', u'p1display': u'LIN', u'timestep': u'0.08', u'p5g': u'1', u'p5b': u'32', u'p11b': u'32', u'p11g': u'1', u'p16display': u'LOG', u'cd cd4, %tm': u'.', u'guid': u'0d8e743a-05fe-4e8b-9ec4-25993c124ee2', u'p11n': u'V450-A', u'p4bs': u'0', u'p5r': u'261588', u'p5s': u'CD3', u'laser2asf': u'0.55', u'p13r': u'261588', u'p6ms': u'0', u'p13s': u'CD19', u'tot': u'65016', u'nextdata': u'0', u'laser3name': u'Violet', u'p4n': u'B515-A', u'p12s': u'CCR5', u'p12r': u'261588', u'cyt': u'Main Aria (FACSAria)', u'p4g': u'1', u'live cells recovered': u' ', u'p4b': u'32', u'sort type': u'SORT', u'p12g': u'1', u'p12b': u'32', u'p2ms': u'0', u'p12n': u'G780-A', u'p4s': u'KI67', u'p4r': u'261588', u'p14bs': u'9362', u'p13ms': u'0', u'p2bs': u'0', u'p5display': u'LOG', u'p8ms': u'0', u'cd cd4, %em': u'.', u'vial id': u'100715', u'laser1name': u'Blue', u'p16n': u'G560-A', u'p15n': u'G610-A', u'p10b': u'32', u'p15ms': u'0', u'p7r': u'261588', u'p7s': u'CD45RO', u'pin': u' ', u'laser4name': u'Green', u'laser1asf': u'0.66', u'p14ms': u'0', u'p7g': u'1', u'cd age': u'19.6', u'p7b': u'32', u'p7n': u'R660-A', u'pin check': u' ', u'p9display': u'LOG', u'par': u'16', u'cd gag/100 tm cells': u'.', u'cd first viral load': u'2024', u'p15display': u'LOG', u'experiment name': u'070717_AB02_tb', u'p9ms': u'0', u'p16r': u'261588', u'fj_timestep': u'0.01', u'laser2name': u'Red', u'p6r': u'261588', u'export user name': u'Administrator', u'cd gag/100 n cells': u'.', u'p10s': u'CD57', u'p10r': u'261588', u'sys': u'Windows XP 5.1', u'fsc asf': u'0.63', u'laser4delay': u'-82.60', u'inst': u' ', u'p6g': u'1', u'date': u'17-JUL-2007', u'p10g': u'1', u'cd gag/100 em cells': u'.', u'p1ms': u'0', u'p6n': u'R710-A', u'p12display': u'LOG', u'datatype': u'F', u'p15g': u'1', u'p12ms': u'0', u'p4display': u'LOG', u'p5ms': u'0', u'laser4asf': u'0.53', u'btim': u'15:36:28', u'p8bs': u'2029', u'laser2delay': u'-59.80', u'p8n': u'V800-A'}\n"
     ]
    }
   ],
   "source": [
    "print(len(fd.events))\n",
    "print(fd.text)"
   ]
  },
  {
   "cell_type": "markdown",
   "metadata": {},
   "source": [
    "The compensation matrix in in the 'spill' of the text"
   ]
  },
  {
   "cell_type": "code",
   "execution_count": 14,
   "metadata": {},
   "outputs": [
    {
     "data": {
      "text/plain": [
       "u'13,B515-A,R780-A,R710-A,R660-A,V800-A,V655-A,V585-A,V450-A,G780-A,G710-A,G660-A,G610-A,G560-A,1,0,0,0.00008841570561316703,0.0002494559842740046,0.0006451591561972469,0.007198401782797728,0,0,0.00013132619816952714,0.0000665251222573374,0.0005815839652764308,0.0025201730479353047,0,1,0.07118758880093266,0.14844804153215532,0.3389031912802132,0.00971660311243448,0,0,0.3013801753249257,0.007477611134717788,0.0123543122066652,0,0,0,0.33140488468849205,1,0.0619647566095391,0.12097867005182314,0.004052554840959644,0,0,0.1091165124197372,0.10031383324016652,0.005831773047424356,0,0,0,0.08862108746390694,0.38942413967608824,1,0.029758767352535288,0.06555281586224636,0,0,0.03129393154653089,0.039305936245674286,0.09137451237674046,0.00039591122341817164,0.000056659766405160846,0,0.13661791418865094,0.010757316236957385,0,1,0.00015647113960278087,0,0,0.48323487842103036,0.01485813345103798,0,0,0,0,0.00012365104122837034,0.019462610460087203,0.2182062762553545,0.004953221988365214,1,0.003582785726251024,0,0.0013106968243292993,0.029645575685206288,0.4089015923558522,0.006505826616588717,0.00011917703878954761,0,0,0,0,0.001055595075733903,0.002287122431059274,1,0,0.0003885172922042414,0.0001942589956485108,0,0.06255131165904257,0.13248446095817049,0,0,0,0,0,0.008117870042687002,0.17006643956891296,1,0,0,0,0,0,0.003122390646560834,0.008525685683831916,0.001024237027323255,0.0011626412849951272,0.12540105131097395,0.018142202256893485,0.19364562239714117,0,1,0.06689784643460173,0.16145640353506588,0.2868231743828476,1.2380368696528024,0.002015498041918758,0.06964529385206036,0.19471548842271394,0.0010077719457714136,0.15161117217667686,0.0012703511702660231,0.007133491446011225,0,1.1500323358669722,1,0.016076827046672983,0.014674146885307975,0.055351746085494,0.001685226072130514,0.05433993817875603,0.27785224557295884,0.34300826602551504,0.06175281041168121,0.07752283973796613,0.0042628794531131406,0,0.49748791920091034,0.7439226300384197,1,0.010329232815907474,0.03763461149817695,0,0.008713148000954844,0.04821275078920058,0.07319044343609345,0.1505631929508567,0.3862934410767249,0.10189631814602482,0,0.3702770755789083,0.6134900271606913,1.2180240147472128,1,0.06521131251063482,0.0016842378874079343,0,0,0.00009533732312150527,0.0034630076700367675,0.01571183587491517,0.17412189188164517,0,0.023802192010810994,0.049474451704249904,0.13251071256825273,0.23921555785727822,1'"
      ]
     },
     "execution_count": 14,
     "metadata": {},
     "output_type": "execute_result"
    }
   ],
   "source": [
    "fd.text['spill']"
   ]
  },
  {
   "cell_type": "code",
   "execution_count": null,
   "metadata": {},
   "outputs": [],
   "source": []
  },
  {
   "cell_type": "code",
   "execution_count": null,
   "metadata": {},
   "outputs": [],
   "source": []
  }
 ],
 "metadata": {
  "kernelspec": {
   "display_name": "Python [conda env:py27]",
   "language": "python",
   "name": "conda-env-py27-py"
  },
  "language_info": {
   "codemirror_mode": {
    "name": "ipython",
    "version": 2
   },
   "file_extension": ".py",
   "mimetype": "text/x-python",
   "name": "python",
   "nbconvert_exporter": "python",
   "pygments_lexer": "ipython2",
   "version": "2.7.14"
  }
 },
 "nbformat": 4,
 "nbformat_minor": 2
}
